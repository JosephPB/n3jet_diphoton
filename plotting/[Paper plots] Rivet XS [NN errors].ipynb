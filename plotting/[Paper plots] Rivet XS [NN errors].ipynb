{
 "cells": [
  {
   "cell_type": "code",
   "execution_count": 7,
   "metadata": {},
   "outputs": [],
   "source": [
    "import numpy as np\n",
    "\n",
    "import matplotlib.pyplot as plt\n",
    "\n",
    "from rivet_plotter import RivetPlotter"
   ]
  },
  {
   "cell_type": "code",
   "execution_count": 8,
   "metadata": {},
   "outputs": [],
   "source": [
    "rivet_path = \"/mt/home/jbullock/n3jet_diphoton/run/3g2a-nn-fks-errors/unit-3M/\"\n",
    "dat_file = \"MC_XS/XS.dat\""
   ]
  },
  {
   "cell_type": "code",
   "execution_count": 9,
   "metadata": {},
   "outputs": [],
   "source": [
    "plotter = RivetPlotter(\n",
    "    rivet_path = rivet_path,\n",
    "    dat_file = dat_file\n",
    ")"
   ]
  },
  {
   "cell_type": "code",
   "execution_count": 10,
   "metadata": {},
   "outputs": [],
   "source": [
    "training_reruns = 20"
   ]
  },
  {
   "cell_type": "code",
   "execution_count": 11,
   "metadata": {},
   "outputs": [],
   "source": [
    "njet_xs = []\n",
    "njet_xs_errs = []\n",
    "nn_xs = []\n",
    "nn_dataset_xs = []\n",
    "\n",
    "for i in range(training_reruns):\n",
    "    dfile = \"rivet-plots-{}/\".format(i) + dat_file\n",
    "    njet_data, nn_data = plotter.extract_data(\n",
    "        dat_file = dfile,\n",
    "        return_scales=False,\n",
    "    )\n",
    "    njet_bins, njet_vals, njet_errs = plotter.parse_data_step(njet_data)\n",
    "    njet_xs.append(njet_vals[0])\n",
    "    njet_xs_errs.append(njet_errs[0])\n",
    "    nn_bins, nn_vals, nn_errs = plotter.parse_data_step(nn_data)\n",
    "    nn_xs.append(nn_vals[0])\n",
    "    \n",
    "    dfile = \"rivet-plots-dataset-{}/\".format(i) + dat_file\n",
    "    njet_data, nn_data = plotter.extract_data(\n",
    "        dat_file = dfile,\n",
    "        return_scales=False,\n",
    "    )\n",
    "    nn_bins, nn_vals, nn_errs = plotter.parse_data_step(nn_data)\n",
    "    nn_dataset_xs.append(nn_vals[0])"
   ]
  },
  {
   "cell_type": "code",
   "execution_count": 12,
   "metadata": {},
   "outputs": [
    {
     "name": "stdout",
     "output_type": "stream",
     "text": [
      "NJet XS is 4.149457e-06 +/- 6.20877e-09\n"
     ]
    }
   ],
   "source": [
    "print (\"NJet XS is {} +/- {}\".format(njet_xs[0],njet_xs_errs[0]))"
   ]
  },
  {
   "cell_type": "code",
   "execution_count": 13,
   "metadata": {},
   "outputs": [
    {
     "name": "stdout",
     "output_type": "stream",
     "text": [
      "NN XS is 4.18806105e-06 +/- 6.87931848487e-08\n"
     ]
    }
   ],
   "source": [
    "print (\"NN XS is {} +/- {}\".format(np.mean(nn_xs),(np.sqrt(np.std(nn_xs, ddof=1)**2+np.std(nn_dataset_xs, ddof=1)**2))/np.sqrt(20)))"
   ]
  },
  {
   "cell_type": "code",
   "execution_count": null,
   "metadata": {},
   "outputs": [],
   "source": []
  }
 ],
 "metadata": {
  "kernelspec": {
   "display_name": "n3jet-env-p2",
   "language": "python",
   "name": "n3jet-env-p2"
  },
  "language_info": {
   "codemirror_mode": {
    "name": "ipython",
    "version": 2
   },
   "file_extension": ".py",
   "mimetype": "text/x-python",
   "name": "python",
   "nbconvert_exporter": "python",
   "pygments_lexer": "ipython2",
   "version": "2.7.5"
  }
 },
 "nbformat": 4,
 "nbformat_minor": 4
}
