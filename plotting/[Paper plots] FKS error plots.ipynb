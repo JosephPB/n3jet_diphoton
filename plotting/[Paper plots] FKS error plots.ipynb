{
 "cells": [
  {
   "cell_type": "code",
   "execution_count": 1,
   "id": "indie-funeral",
   "metadata": {},
   "outputs": [
    {
     "name": "stderr",
     "output_type": "stream",
     "text": [
      "\n",
      "Bad key \"legend.title_fontsize\" on line 22 in\n",
      "/mt/home/jbullock/.config/matplotlib/stylelib/notebook.mplstyle.\n",
      "You probably need to get an updated matplotlibrc file from\n",
      "http://github.com/matplotlib/matplotlib/blob/master/matplotlibrc.template\n",
      "or from the matplotlib source distribution\n",
      "Using TensorFlow backend.\n"
     ]
    }
   ],
   "source": [
    "import numpy as np\n",
    "import matplotlib.pyplot as plt\n",
    "from matplotlib.ticker import Locator, MaxNLocator # added \n",
    "from tqdm import tqdm\n",
    "from scipy import stats, interpolate\n",
    "import yaml\n",
    "\n",
    "from n3jet.general import FKSModelRun"
   ]
  },
  {
   "cell_type": "markdown",
   "id": "adequate-delhi",
   "metadata": {},
   "source": [
    "## Set up"
   ]
  },
  {
   "cell_type": "code",
   "execution_count": 2,
   "id": "japanese-trunk",
   "metadata": {},
   "outputs": [],
   "source": [
    "yaml_file = '/mt/home/jbullock/n3jet/n3jet/runs/runs/diphoton/3g2A/RAMBO/parallel_fixed/fks_all_legs_all_pairs_new_sherpa_cuts_pdf_njet.yaml'"
   ]
  },
  {
   "cell_type": "code",
   "execution_count": 3,
   "id": "future-estonia",
   "metadata": {},
   "outputs": [],
   "source": [
    "save_dir = 'paper_plots/5_point/error_plots/'"
   ]
  },
  {
   "cell_type": "code",
   "execution_count": 4,
   "id": "soviet-hampton",
   "metadata": {},
   "outputs": [],
   "source": [
    "save_fig = 'unit_error_plot'"
   ]
  },
  {
   "cell_type": "code",
   "execution_count": 5,
   "id": "secondary-capitol",
   "metadata": {},
   "outputs": [],
   "source": [
    "grid_type = 'unit' # vegas or unit\n",
    "legs = 5"
   ]
  },
  {
   "cell_type": "markdown",
   "id": "younger-setup",
   "metadata": {},
   "source": [
    "## Data processing"
   ]
  },
  {
   "cell_type": "code",
   "execution_count": 6,
   "id": "loose-spine",
   "metadata": {},
   "outputs": [
    {
     "name": "stdout",
     "output_type": "stream",
     "text": [
      "/mt/home/jbullock/n3jet/n3jet/runs/runs/diphoton/3g2A/RAMBO/parallel_fixed/fks_all_legs_all_pairs_new_sherpa_cuts_pdf_njet.yaml\n"
     ]
    }
   ],
   "source": [
    "test_fks_model = FKSModelRun.from_yaml(yaml_file, training=False)"
   ]
  },
  {
   "cell_type": "code",
   "execution_count": 7,
   "id": "manufactured-canal",
   "metadata": {},
   "outputs": [
    {
     "name": "stdout",
     "output_type": "stream",
     "text": [
      "############### Momenta loaded ###############\n",
      "############### NJet loaded ###############\n",
      "Training on 1000000 PS points\n"
     ]
    }
   ],
   "source": [
    "test_momenta, test_nj = test_fks_model.load_data()"
   ]
  },
  {
   "cell_type": "code",
   "execution_count": 8,
   "id": "electrical-massage",
   "metadata": {},
   "outputs": [
    {
     "name": "stderr",
     "output_type": "stream",
     "text": [
      "100%|██████████| 1000000/1000000 [00:26<00:00, 38110.13it/s]\n",
      "  2%|▏         | 1823/88451 [00:00<00:04, 18225.85it/s]"
     ]
    },
    {
     "name": "stdout",
     "output_type": "stream",
     "text": [
      "Pair 1 of 9\n"
     ]
    },
    {
     "name": "stderr",
     "output_type": "stream",
     "text": [
      "100%|██████████| 88451/88451 [00:04<00:00, 21490.66it/s]\n",
      "  3%|▎         | 2288/88451 [00:00<00:03, 22872.22it/s]"
     ]
    },
    {
     "name": "stdout",
     "output_type": "stream",
     "text": [
      "Pair 2 of 9\n"
     ]
    },
    {
     "name": "stderr",
     "output_type": "stream",
     "text": [
      "100%|██████████| 88451/88451 [00:04<00:00, 22000.67it/s]\n",
      "  3%|▎         | 2216/88451 [00:00<00:03, 22158.91it/s]"
     ]
    },
    {
     "name": "stdout",
     "output_type": "stream",
     "text": [
      "Pair 3 of 9\n"
     ]
    },
    {
     "name": "stderr",
     "output_type": "stream",
     "text": [
      "100%|██████████| 88451/88451 [00:03<00:00, 22633.72it/s]\n",
      "  3%|▎         | 2365/88451 [00:00<00:03, 23644.78it/s]"
     ]
    },
    {
     "name": "stdout",
     "output_type": "stream",
     "text": [
      "Pair 4 of 9\n"
     ]
    },
    {
     "name": "stderr",
     "output_type": "stream",
     "text": [
      "100%|██████████| 88451/88451 [00:03<00:00, 22716.96it/s]\n",
      "  3%|▎         | 2309/88451 [00:00<00:03, 23089.09it/s]"
     ]
    },
    {
     "name": "stdout",
     "output_type": "stream",
     "text": [
      "Pair 5 of 9\n"
     ]
    },
    {
     "name": "stderr",
     "output_type": "stream",
     "text": [
      "100%|██████████| 88451/88451 [00:03<00:00, 24237.98it/s]\n",
      "  3%|▎         | 2471/88451 [00:00<00:03, 24703.54it/s]"
     ]
    },
    {
     "name": "stdout",
     "output_type": "stream",
     "text": [
      "Pair 6 of 9\n"
     ]
    },
    {
     "name": "stderr",
     "output_type": "stream",
     "text": [
      "100%|██████████| 88451/88451 [00:03<00:00, 24870.39it/s]\n",
      "  3%|▎         | 2380/88451 [00:00<00:03, 23799.29it/s]"
     ]
    },
    {
     "name": "stdout",
     "output_type": "stream",
     "text": [
      "Pair 7 of 9\n"
     ]
    },
    {
     "name": "stderr",
     "output_type": "stream",
     "text": [
      "100%|██████████| 88451/88451 [00:03<00:00, 22779.41it/s]\n",
      "  3%|▎         | 2514/88451 [00:00<00:03, 25132.71it/s]"
     ]
    },
    {
     "name": "stdout",
     "output_type": "stream",
     "text": [
      "Pair 8 of 9\n"
     ]
    },
    {
     "name": "stderr",
     "output_type": "stream",
     "text": [
      "100%|██████████| 88451/88451 [00:03<00:00, 24541.97it/s]\n",
      "  3%|▎         | 2469/88451 [00:00<00:03, 24682.55it/s]"
     ]
    },
    {
     "name": "stdout",
     "output_type": "stream",
     "text": [
      "Pair 9 of 9\n"
     ]
    },
    {
     "name": "stderr",
     "output_type": "stream",
     "text": [
      "100%|██████████| 88451/88451 [00:03<00:00, 24649.57it/s]\n"
     ]
    }
   ],
   "source": [
    "cut_momenta, near_momenta, cut_nj, near_nj, pairs, _, weights = test_fks_model.split_data(\n",
    "    momenta = test_momenta, \n",
    "    nj = test_nj,\n",
    "    return_weights = True\n",
    ")"
   ]
  },
  {
   "cell_type": "code",
   "execution_count": 9,
   "id": "metallic-format",
   "metadata": {},
   "outputs": [],
   "source": [
    "cut_nj = np.array(cut_nj)\n",
    "near_nj = np.array(near_nj)\n",
    "total_nj = np.concatenate((cut_nj, near_nj))\n",
    "total_momenta = np.concatenate((cut_momenta, near_momenta))"
   ]
  },
  {
   "cell_type": "code",
   "execution_count": 10,
   "id": "domestic-bones",
   "metadata": {},
   "outputs": [],
   "source": [
    "assert len(total_nj) == len(test_momenta)\n",
    "assert len(total_momenta) == len(test_momenta)\n",
    "\n",
    "test_points = len(test_momenta)\n",
    "model_dir_new = test_fks_model.model_base_dir + test_fks_model.model_dir"
   ]
  },
  {
   "cell_type": "code",
   "execution_count": 11,
   "id": "strange-jewelry",
   "metadata": {},
   "outputs": [
    {
     "name": "stderr",
     "output_type": "stream",
     "text": [
      "100%|██████████| 20/20 [00:02<00:00,  9.02it/s]\n"
     ]
    }
   ],
   "source": [
    "nn_cut_all = []\n",
    "nn_near_all = []\n",
    "for t in tqdm(range(test_fks_model.training_reruns)):\n",
    "    nn_cut = np.load(model_dir_new + '_{}/pred_cut_{}.npy'.format(t,test_points), allow_pickle=True)\n",
    "    nn_near = np.load(model_dir_new + '_{}/pred_near_{}.npy'.format(t,test_points), allow_pickle=True)\n",
    "    nn_cut_all.append(nn_cut)\n",
    "    nn_near_all.append(nn_near)\n",
    "\n",
    "nn_cut_std = np.std(nn_cut_all, ddof=1, axis=0)\n",
    "nn_near_std = np.std(nn_near_all, ddof=1, axis=0)\n",
    "    \n",
    "nn_cut_mean = np.mean(nn_cut_all, axis=0)\n",
    "nn_near_mean = np.mean(nn_near_all, axis=0)\n",
    "    \n",
    "assert len(nn_cut_mean) == len(cut_nj)\n",
    "assert len(nn_near_mean) == len(near_nj)\n",
    "    \n",
    "total_nn = np.concatenate((nn_cut_mean, nn_near_mean))\n",
    "total_nn_std = np.concatenate((nn_cut_std, nn_near_std))\n",
    "\n",
    "assert len(total_nn) == test_points\n",
    "assert len(total_nn_std) == test_points"
   ]
  },
  {
   "cell_type": "markdown",
   "id": "hazardous-perspective",
   "metadata": {},
   "source": [
    "## Error plots"
   ]
  },
  {
   "cell_type": "code",
   "execution_count": 12,
   "id": "double-cardiff",
   "metadata": {},
   "outputs": [],
   "source": [
    "Delta = total_nn/total_nj\n",
    "positive_locs = np.where(Delta >= 0.)\n",
    "Delta = Delta[positive_locs]\n",
    "    \n",
    "log_delta = np.log(Delta)"
   ]
  },
  {
   "cell_type": "code",
   "execution_count": 13,
   "id": "another-white",
   "metadata": {},
   "outputs": [
    {
     "data": {
      "image/png": "[encoded data removed]",
      "text/plain": [
       "<Figure size 432x288 with 1 Axes>"
      ]
     },
     "metadata": {
      "needs_background": "light"
     },
     "output_type": "display_data"
    }
   ],
   "source": [
    "plt.rc('text', usetex=True)\n",
    "plt.rc('font', family='serif')\n",
    "\n",
    "plt.hist(log_delta, bins=200, color='green', alpha = 0.5)\n",
    "plt.xlim((-2.5,2.5))\n",
    "\n",
    "plt.tick_params(axis='x', labelsize=15, direction = 'in', top = True)\n",
    "plt.tick_params(axis='y', labelsize=15, direction = 'in', right = True)\n",
    "plt.ticklabel_format(style='sci', axis='y', scilimits=(0,0))\n",
    "\n",
    "plt.ylabel('Frequency', fontsize=17, labelpad=10)\n",
    "plt.xlabel(r'ln($\\Delta$)', fontsize=17, labelpad=10)\n",
    "\n",
    "if grid_type == 'vegas':\n",
    "    annotation_string = \"VEGAS grid \\n\"\n",
    "elif grid_type == 'unit':\n",
    "    annotation_string = \"Unit grid \\n\"\n",
    "if legs == 5:\n",
    "    annotation_string += r\"$gg\\to \\gamma\\gamma g$\"\n",
    "elif legs == 6:\n",
    "    annotation_string += r\"$gg\\to \\gamma\\gamma gg$\"\n",
    "annotation_string += \"\\n\"\n",
    "annotation_string += r\"$\\Delta = \\frac{\\mathrm{NN}}{\\mathrm{NJet}}$\"\n",
    "    \n",
    "plt.text(-2, 1e5, annotation_string, size=17,\n",
    "         va=\"baseline\", ha=\"left\", multialignment=\"left\", linespacing = 1.6)\n",
    "\n",
    "plt.savefig(save_dir + save_fig + '.png', dpi=150, bbox_inches='tight')\n",
    "plt.show()"
   ]
  },
  {
   "cell_type": "code",
   "execution_count": null,
   "id": "obvious-tutorial",
   "metadata": {},
   "outputs": [],
   "source": []
  }
 ],
 "metadata": {
  "kernelspec": {
   "display_name": "n3jet-env-p2",
   "language": "python",
   "name": "n3jet-env-p2"
  },
  "language_info": {
   "codemirror_mode": {
    "name": "ipython",
    "version": 2
   },
   "file_extension": ".py",
   "mimetype": "text/x-python",
   "name": "python",
   "nbconvert_exporter": "python",
   "pygments_lexer": "ipython2",
   "version": "2.7.5"
  }
 },
 "nbformat": 4,
 "nbformat_minor": 5
}
