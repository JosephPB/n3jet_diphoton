{
 "cells": [
  {
   "cell_type": "code",
   "execution_count": 1,
   "metadata": {},
   "outputs": [
    {
     "name": "stderr",
     "output_type": "stream",
     "text": [
      "\n",
      "Bad key \"legend.title_fontsize\" on line 22 in\n",
      "/mt/home/jbullock/.config/matplotlib/stylelib/notebook.mplstyle.\n",
      "You probably need to get an updated matplotlibrc file from\n",
      "http://github.com/matplotlib/matplotlib/blob/master/matplotlibrc.template\n",
      "or from the matplotlib source distribution\n"
     ]
    }
   ],
   "source": [
    "import numpy as np\n",
    "import matplotlib.pyplot as plt\n",
    "\n",
    "from rivet_plotter import RivetPlotter"
   ]
  },
  {
   "cell_type": "code",
   "execution_count": 2,
   "metadata": {},
   "outputs": [],
   "source": [
    "rivet_dir = '/mt/home/jbullock/www/files/research/parallel_fixed/integration_grid/3g2A-100k-unit-grid-diff-seed-3M/rivet-plots/diphoton/'"
   ]
  },
  {
   "cell_type": "code",
   "execution_count": 3,
   "metadata": {},
   "outputs": [],
   "source": [
    "save_dir = './paper_plots/5_point/distributions/'"
   ]
  },
  {
   "cell_type": "markdown",
   "metadata": {},
   "source": [
    "**Questions:**\n",
    "- Why is this rescaling disrupting the rivet plots?"
   ]
  },
  {
   "cell_type": "markdown",
   "metadata": {},
   "source": [
    "# Angular plots"
   ]
  },
  {
   "cell_type": "markdown",
   "metadata": {},
   "source": [
    "## $d\\phi_{jj}$"
   ]
  },
  {
   "cell_type": "code",
   "execution_count": 4,
   "metadata": {},
   "outputs": [],
   "source": [
    "dphi_jj_file = rivet_dir + 'dphijj.dat'"
   ]
  },
  {
   "cell_type": "code",
   "execution_count": 5,
   "metadata": {},
   "outputs": [],
   "source": [
    "dphi_jj_plotter = RivetPlotter(dphi_jj_file)"
   ]
  },
  {
   "cell_type": "code",
   "execution_count": 6,
   "metadata": {},
   "outputs": [],
   "source": [
    "njet_scale, nn_scale, njet_data, nn_data = dphi_jj_plotter.extract_data()"
   ]
  },
  {
   "cell_type": "code",
   "execution_count": 7,
   "metadata": {},
   "outputs": [],
   "source": [
    "njet_bins, njet_vals, njet_errs = dphi_jj_plotter.parse_data_step(njet_data)\n",
    "nn_bins, nn_vals, nn_errs = dphi_jj_plotter.parse_data_step(nn_data)"
   ]
  },
  {
   "cell_type": "code",
   "execution_count": 12,
   "metadata": {},
   "outputs": [],
   "source": [
    "def plot_distribution(\n",
    "    njet_bins,\n",
    "    nn_bins,\n",
    "    njet_vals,\n",
    "    nn_vals,\n",
    "    njet_errs,\n",
    "    nn_errs,\n",
    "    ylabel,\n",
    "    xlabel,\n",
    "    xlim=None,\n",
    "):\n",
    "    \"\"\"\n",
    "    Plot two histograms with ratio plot below\n",
    "\n",
    "    Returns\n",
    "    -------\n",
    "    matplotlib figure environment\n",
    "    \"\"\"\n",
    "\n",
    "    plt.clf()\n",
    "\n",
    "    fig = plt.figure(1, figsize=(5,7))\n",
    "\n",
    "    plt.rc(\"text\", usetex=True)\n",
    "    plt.rc(\"font\", family=\"serif\")\n",
    "\n",
    "    ax1 = fig.add_axes((0.1, 0.4, 0.8, 0.8))\n",
    "\n",
    "    ax1.step(njet_bins, njet_vals, color=\"red\", label=\"NJet\")\n",
    "    ax1.step(nn_bins, nn_vals, color=\"blue\", label=\"NN\")\n",
    "    ax1.fill_between(\n",
    "        njet_bins[:-1],\n",
    "        (njet_vals - njet_errs)[1:],\n",
    "        (njet_vals + njet_errs)[1:],\n",
    "        step=\"post\",\n",
    "        color=\"red\",\n",
    "        alpha=0.5,\n",
    "    )\n",
    "    ax1.fill_between(\n",
    "        nn_bins[:-1],\n",
    "        (nn_vals - nn_errs)[1:],\n",
    "        (nn_vals + nn_errs)[1:],\n",
    "        step=\"post\",\n",
    "        color=\"blue\",\n",
    "        alpha=0.5,\n",
    "    )\n",
    "    ax1.set_yscale(\"log\")\n",
    "    ax1.set_xticklabels([])\n",
    "\n",
    "    ax1.tick_params(axis=\"x\", labelsize=15, direction=\"in\", top=True)\n",
    "    ax1.tick_params(\n",
    "        axis=\"y\", labelsize=15, direction=\"in\", right=True, which=\"both\"\n",
    "    )\n",
    "\n",
    "    if xlim is not None:\n",
    "        ax1.set_xlim(xlim)\n",
    "    else:\n",
    "        ax1.set_xlim((0, njet_bins[-1]))\n",
    "\n",
    "    ax1.set_ylabel(r\"{}\".format(ylabel), fontsize=17, labelpad=10)\n",
    "    ax1.legend(prop={\"size\": 17}, frameon=False)\n",
    "\n",
    "    ax2 = fig.add_axes((0.1, 0.1, 0.8, 0.3))\n",
    "\n",
    "    ax2.step(njet_bins, np.ones(len(njet_vals)), color=\"red\")\n",
    "    ax2.step(njet_bins, nn_vals / njet_vals, color=\"blue\")\n",
    "    ax2.fill_between(\n",
    "        njet_bins[:-1],\n",
    "        (np.ones(len(njet_vals)) - (njet_errs / njet_vals))[1:],\n",
    "        (np.ones(len(njet_vals)) + (njet_errs / njet_vals))[1:],\n",
    "        step=\"post\",\n",
    "        color=\"red\",\n",
    "        alpha=0.5,\n",
    "    )\n",
    "    ax2.fill_between(\n",
    "        nn_bins[:-1],\n",
    "        ((nn_vals / njet_vals) - (nn_errs / njet_vals))[1:],\n",
    "        ((nn_vals / njet_vals) + (nn_errs / njet_vals))[1:],\n",
    "        step=\"post\",\n",
    "        color=\"blue\",\n",
    "        alpha=0.5,\n",
    "    )\n",
    "\n",
    "    if xlim is not None:\n",
    "        ax2.set_xlim(xlim)\n",
    "    else:\n",
    "        ax2.set_xlim((0, njet_bins[-1]))\n",
    "    ax2.set_ylim((0.4, 1.6))\n",
    "\n",
    "    ax2.set_ylabel(r\"Ratio\", fontsize=17, labelpad=10)\n",
    "    ax2.set_xlabel(r\"{}\".format(xlabel), fontsize=17, labelpad=10)\n",
    "    ax2.tick_params(axis=\"x\", labelsize=15, direction=\"in\", top=True)\n",
    "    ax2.tick_params(\n",
    "        axis=\"y\", labelsize=15, direction=\"in\", right=True, which=\"both\"\n",
    "    )\n",
    "\n",
    "    return fig"
   ]
  },
  {
   "cell_type": "code",
   "execution_count": 13,
   "metadata": {},
   "outputs": [
    {
     "data": {
      "image/png": "[encoded data removed]",
      "text/plain": [
       "<Figure size 432x288 with 2 Axes>"
      ]
     },
     "metadata": {
      "needs_background": "light"
     },
     "output_type": "display_data"
    }
   ],
   "source": [
    "fig = plot_distribution(\n",
    "    njet_bins = njet_bins,\n",
    "    nn_bins = nn_bins,\n",
    "    njet_vals = njet_vals/np.sum(njet_vals),\n",
    "    nn_vals = nn_vals/np.sum(nn_vals),\n",
    "    njet_errs = njet_errs/np.sum(njet_vals),\n",
    "    nn_errs = nn_errs/np.sum(njet_vals),\n",
    "    xlabel = '$\\Delta\\phi_{jj}$ [rad]',\n",
    "    ylabel = 'd$\\sigma/$d$\\Delta\\phi_{jj}$ [fb rad$^{-1}$]'\n",
    ")"
   ]
  },
  {
   "cell_type": "markdown",
   "metadata": {},
   "source": [
    "## $R_{j_1,\\gamma_1}$"
   ]
  },
  {
   "cell_type": "code",
   "execution_count": 17,
   "metadata": {},
   "outputs": [],
   "source": [
    "dr_jy_file = rivet_dir + 'rsepjy.dat'"
   ]
  },
  {
   "cell_type": "code",
   "execution_count": 18,
   "metadata": {},
   "outputs": [],
   "source": [
    "dr_jy_plotter = RivetPlotter(dr_jy_file)"
   ]
  },
  {
   "cell_type": "code",
   "execution_count": 19,
   "metadata": {},
   "outputs": [],
   "source": [
    "njet_scale, nn_scale, njet_data, nn_data = dr_jy_plotter.extract_data()"
   ]
  },
  {
   "cell_type": "code",
   "execution_count": 20,
   "metadata": {},
   "outputs": [],
   "source": [
    "njet_bins, njet_vals, njet_errs = dr_jy_plotter.parse_data_step(njet_data)\n",
    "nn_bins, nn_vals, nn_errs = dr_jy_plotter.parse_data_step(nn_data)"
   ]
  },
  {
   "cell_type": "code",
   "execution_count": 22,
   "metadata": {},
   "outputs": [
    {
     "name": "stderr",
     "output_type": "stream",
     "text": [
      "rivet_plotter.py:147: RuntimeWarning: invalid value encountered in divide\n",
      "  ax2.step(njet_bins, nn_vals / njet_vals, color=\"blue\")\n",
      "rivet_plotter.py:150: RuntimeWarning: invalid value encountered in divide\n",
      "  (np.ones(len(njet_vals)) - (njet_errs/njet_vals))[1:],\n",
      "rivet_plotter.py:151: RuntimeWarning: invalid value encountered in divide\n",
      "  (np.ones(len(njet_vals)) + (njet_errs/njet_vals))[1:],\n",
      "rivet_plotter.py:158: RuntimeWarning: invalid value encountered in divide\n",
      "  ((nn_vals / njet_vals) - (nn_errs/njet_vals))[1:],\n",
      "rivet_plotter.py:159: RuntimeWarning: invalid value encountered in divide\n",
      "  ((nn_vals / njet_vals) + (nn_errs/njet_vals))[1:],\n"
     ]
    },
    {
     "data": {
      "image/png": "[encoded data removed]",
      "text/plain": [
       "<Figure size 432x288 with 2 Axes>"
      ]
     },
     "metadata": {
      "needs_background": "light"
     },
     "output_type": "display_data"
    }
   ],
   "source": [
    "fig = dr_jy_plotter.plot_distribution(\n",
    "    njet_bins = njet_bins,\n",
    "    nn_bins = nn_bins,\n",
    "    njet_vals = njet_vals/np.sum(njet_vals),\n",
    "    nn_vals = nn_vals/np.sum(nn_vals),\n",
    "    njet_errs = njet_errs/np.sum(njet_vals),\n",
    "    nn_errs = nn_errs/np.sum(njet_vals),\n",
    "    xlabel = '$R_{j\\gamma}$',\n",
    "    ylabel = 'd$\\sigma/$d$R_{j\\gamma}$ [fb]',\n",
    "    xlim = (0.2,5)\n",
    ")"
   ]
  },
  {
   "cell_type": "markdown",
   "metadata": {},
   "source": [
    "# Di-photon plots"
   ]
  },
  {
   "cell_type": "markdown",
   "metadata": {},
   "source": [
    "## $d\\eta_{\\gamma\\gamma}$"
   ]
  },
  {
   "cell_type": "code",
   "execution_count": 49,
   "metadata": {},
   "outputs": [],
   "source": [
    "deta_yy_file = rivet_dir + 'etayy.dat'"
   ]
  },
  {
   "cell_type": "code",
   "execution_count": 50,
   "metadata": {},
   "outputs": [],
   "source": [
    "deta_yy_plotter = RivetPlotter(deta_yy_file)"
   ]
  },
  {
   "cell_type": "code",
   "execution_count": 51,
   "metadata": {},
   "outputs": [
    {
     "data": {
      "image/png": "[encoded data removed]",
      "text/plain": [
       "<Figure size 432x288 with 2 Axes>"
      ]
     },
     "metadata": {
      "needs_background": "light"
     },
     "output_type": "display_data"
    }
   ],
   "source": [
    "deta_yy_fig = deta_yy_plotter.plot(\n",
    "    xlabel = '$\\eta_{\\gamma\\gamma}$',\n",
    "    ylabel = 'd$\\sigma/$d$\\eta_{\\gamma\\gamma}$ [fb]'\n",
    ")"
   ]
  },
  {
   "cell_type": "code",
   "execution_count": 52,
   "metadata": {},
   "outputs": [],
   "source": [
    "deta_yy_fig.savefig(save_dir + 'deta_yy.png', dpi=150, bbox_inches='tight')"
   ]
  },
  {
   "cell_type": "markdown",
   "metadata": {},
   "source": [
    "## $m_{\\gamma\\gamma}$"
   ]
  },
  {
   "cell_type": "code",
   "execution_count": 53,
   "metadata": {},
   "outputs": [],
   "source": [
    "dm_yy_file = rivet_dir + 'mass.dat'"
   ]
  },
  {
   "cell_type": "code",
   "execution_count": 54,
   "metadata": {},
   "outputs": [],
   "source": [
    "dm_yy_plotter = RivetPlotter(dm_yy_file)"
   ]
  },
  {
   "cell_type": "code",
   "execution_count": 55,
   "metadata": {},
   "outputs": [
    {
     "data": {
      "image/png": "[encoded data removed]",
      "text/plain": [
       "<Figure size 432x288 with 2 Axes>"
      ]
     },
     "metadata": {
      "needs_background": "light"
     },
     "output_type": "display_data"
    }
   ],
   "source": [
    "dm_yy_fig = dm_yy_plotter.plot(\n",
    "    xlabel = '$m_{\\gamma\\gamma}$ [GeV]',\n",
    "    ylabel = 'd$\\sigma/$d$m_{\\gamma\\gamma}$ [fb GeV$^{-1}$]'\n",
    ")"
   ]
  },
  {
   "cell_type": "code",
   "execution_count": 56,
   "metadata": {},
   "outputs": [],
   "source": [
    "dm_yy_fig.savefig(save_dir + 'dm_yy.png', dpi=150, bbox_inches='tight')"
   ]
  },
  {
   "cell_type": "markdown",
   "metadata": {},
   "source": [
    "# Jet plots"
   ]
  },
  {
   "cell_type": "markdown",
   "metadata": {},
   "source": [
    "## $p_{T, j_1}$"
   ]
  },
  {
   "cell_type": "code",
   "execution_count": 57,
   "metadata": {},
   "outputs": [],
   "source": [
    "dpt_j1_file = rivet_dir + 'j1pt.dat'"
   ]
  },
  {
   "cell_type": "code",
   "execution_count": 58,
   "metadata": {},
   "outputs": [],
   "source": [
    "dpt_j1_plotter = RivetPlotter(dpt_j1_file)"
   ]
  },
  {
   "cell_type": "code",
   "execution_count": 59,
   "metadata": {},
   "outputs": [
    {
     "data": {
      "image/png": "[encoded data removed]",
      "text/plain": [
       "<Figure size 432x288 with 2 Axes>"
      ]
     },
     "metadata": {
      "needs_background": "light"
     },
     "output_type": "display_data"
    }
   ],
   "source": [
    "dpt_j1_fig = dpt_j1_plotter.plot(\n",
    "    xlabel = '$p_{T}$ [GeV]',\n",
    "    ylabel = 'd$\\sigma/$d$p_{T}$ [fb GeV$^{-1}$]'\n",
    ")"
   ]
  },
  {
   "cell_type": "code",
   "execution_count": 60,
   "metadata": {},
   "outputs": [],
   "source": [
    "dpt_j1_fig.savefig(save_dir + 'dpt_j1.png', dpi=150, bbox_inches='tight')"
   ]
  },
  {
   "cell_type": "markdown",
   "metadata": {},
   "source": [
    "## $p_{T, j_2}$"
   ]
  },
  {
   "cell_type": "code",
   "execution_count": 61,
   "metadata": {},
   "outputs": [],
   "source": [
    "dpt_j2_file = rivet_dir + 'j2pt.dat'"
   ]
  },
  {
   "cell_type": "code",
   "execution_count": 62,
   "metadata": {},
   "outputs": [],
   "source": [
    "dpt_j2_plotter = RivetPlotter(dpt_j2_file)"
   ]
  },
  {
   "cell_type": "code",
   "execution_count": 63,
   "metadata": {},
   "outputs": [
    {
     "data": {
      "image/png": "[encoded data removed]",
      "text/plain": [
       "<Figure size 432x288 with 2 Axes>"
      ]
     },
     "metadata": {
      "needs_background": "light"
     },
     "output_type": "display_data"
    }
   ],
   "source": [
    "dpt_j2_fig = dpt_j2_plotter.plot(\n",
    "    xlabel = '$p_{T}$ [GeV]',\n",
    "    ylabel = 'd$\\sigma/$d$p_{T}$ [fb GeV$^{-1}$]'\n",
    ")"
   ]
  },
  {
   "cell_type": "code",
   "execution_count": 64,
   "metadata": {},
   "outputs": [],
   "source": [
    "dpt_j2_fig.savefig(save_dir + 'dpt_j2.png', dpi=150, bbox_inches='tight')"
   ]
  }
 ],
 "metadata": {
  "kernelspec": {
   "display_name": "n3jet-env-p2",
   "language": "python",
   "name": "n3jet-env-p2"
  },
  "language_info": {
   "codemirror_mode": {
    "name": "ipython",
    "version": 2
   },
   "file_extension": ".py",
   "mimetype": "text/x-python",
   "name": "python",
   "nbconvert_exporter": "python",
   "pygments_lexer": "ipython2",
   "version": "2.7.5"
  }
 },
 "nbformat": 4,
 "nbformat_minor": 5
}
