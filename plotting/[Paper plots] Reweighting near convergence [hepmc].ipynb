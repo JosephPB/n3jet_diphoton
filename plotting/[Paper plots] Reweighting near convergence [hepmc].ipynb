{
 "cells": [
  {
   "cell_type": "code",
   "execution_count": 1,
   "metadata": {},
   "outputs": [
    {
     "name": "stderr",
     "output_type": "stream",
     "text": [
      "\n",
      "Bad key \"legend.title_fontsize\" on line 22 in\n",
      "/mt/home/jbullock/.config/matplotlib/stylelib/notebook.mplstyle.\n",
      "You probably need to get an updated matplotlibrc file from\n",
      "http://github.com/matplotlib/matplotlib/blob/master/matplotlibrc.template\n",
      "or from the matplotlib source distribution\n"
     ]
    }
   ],
   "source": [
    "import numpy as np\n",
    "import matplotlib.pyplot as plt\n",
    "from tqdm import tqdm\n",
    "import yaml\n",
    "from copy import deepcopy\n",
    "\n",
    "from n3jet.utils import FKSPartition\n",
    "from n3jet.utils.general_utils import (\n",
    "    bool_convert,\n",
    "    dot\n",
    ")"
   ]
  },
  {
   "cell_type": "code",
   "execution_count": 2,
   "metadata": {},
   "outputs": [],
   "source": [
    "# original NJet to compare against\n",
    "nj_compare_dir = '/mt/batch/jbullock/Sherpa_NJet/runs/diphoton/3g2A/RAMBO/parallel_fixed/integration_grid/NJet_NJet_unit_grid_5_seed_reweight/'\n",
    "hepmc_mom_file_nj_compare = nj_compare_dir + 'full_momenta_events_3M_new_sherpa_cuts_PDF.npy'\n",
    "events_file_nj_compare = nj_compare_dir + 'original_weights_events_3M_new_sherpa_cuts_PDF.npy'\n",
    "trials_file_nj_compare = nj_compare_dir + 'trials_events_3M_new_sherpa_cuts_PDF.npy'\n",
    "\n",
    "# NN files for reweighting\n",
    "nn_dir = '/mt/batch/jbullock/Sherpa_NJet/runs/diphoton/3g2A/RAMBO/parallel_fixed/integration_grid/nn_NJet_unit_grid_30_seed_reweight/'\n",
    "hepmc_mom_file_nn = nn_dir + 'full_momenta_events_3M_new_sherpa_cuts_PDF.npy'\n",
    "events_file_nn = nn_dir + 'original_weights_events_3M_new_sherpa_cuts_PDF.npy'\n",
    "trials_file_nn = nn_dir + 'trials_events_3M_new_sherpa_cuts_PDF.npy'\n",
    "\n",
    "# NJet file used to reweight\n",
    "nj_dir = '/mt/batch/jbullock/Sherpa_NJet/runs/diphoton/3g2A/RAMBO/parallel_fixed/integration_grid/NJet_NJet_unit_grid_30_seed/'\n",
    "hepmc_mom_file_nj = nj_dir + 'full_momenta_events_3M_new_sherpa_cuts_PDF.npy'\n",
    "events_file_nj = nj_dir + 'original_weights_events_3M_new_sherpa_cuts_PDF.npy'\n",
    "trials_file_nj = nj_dir + 'trials_events_3M_new_sherpa_cuts_PDF.npy'"
   ]
  },
  {
   "cell_type": "code",
   "execution_count": 3,
   "metadata": {},
   "outputs": [],
   "source": [
    "nn_yaml_file = '/mt/home/jbullock/n3jet/n3jet/runs/runs/diphoton/3g2A/RAMBO/parallel_fixed/fks_all_legs_all_pairs_new_sherpa_cuts_pdf_njet.yaml'"
   ]
  },
  {
   "cell_type": "code",
   "execution_count": 4,
   "metadata": {},
   "outputs": [],
   "source": [
    "with open(nn_yaml_file) as f:\n",
    "    y = yaml.load(f, Loader=yaml.FullLoader)\n",
    "    \n",
    "all_legs = bool_convert(y[\"all_legs\"])\n",
    "delta_cut = y[\"delta_cut\"]\n",
    "delta_near = y[\"delta_near\"]"
   ]
  },
  {
   "cell_type": "code",
   "execution_count": 5,
   "metadata": {},
   "outputs": [],
   "source": [
    "def len_check(x):\n",
    "    if x is None:\n",
    "        raise ValueError('Value is None')\n",
    "    elif len(x) > 1:\n",
    "        raise ValueError('length of array is > 1')\n",
    "    elif len(x) < 1:\n",
    "        raise ValueError('length of array is < 1')\n",
    "    else:\n",
    "        return x[0]\n",
    "    \n",
    "def reconcile(to_match, match_to):\n",
    "    indices = []\n",
    "    for idx, i in tqdm(enumerate(to_match)):\n",
    "        try_all = np.where(np.all(match_to==i, axis=(1, 2)))[0]\n",
    "        if len(try_all) == 0:\n",
    "            try_2 = np.where(np.all(match_to[:,2]==i[2], axis=(1)))[0]\n",
    "            if len(try_2) == 0:\n",
    "                try_3 = np.where(np.all(match_to[:,3]==i[3], axis=(1)))[0]\n",
    "                if len(try_3) == 0:\n",
    "                    try_4 = np.where(np.all(match_to[:,4]==i[4], axis=(1)))[0]\n",
    "                    if len(try_4) == 0:\n",
    "                        print ('Struggling on index: {}'.format(idx))\n",
    "                        indices.append(None)\n",
    "                    else:\n",
    "                        indices.append(try_4)\n",
    "                else:\n",
    "                    indices.append(try_3)\n",
    "            else:\n",
    "                indices.append(try_2)\n",
    "        else:\n",
    "            indices.append(try_all)\n",
    "    return indices\n",
    "\n",
    "def index_process(x):\n",
    "    indices = []\n",
    "    for i in tqdm(x):\n",
    "        index = len_check(i)\n",
    "        indices.append(index)\n",
    "        \n",
    "    return indices"
   ]
  },
  {
   "cell_type": "markdown",
   "metadata": {},
   "source": [
    "## Load data"
   ]
  },
  {
   "cell_type": "code",
   "execution_count": 6,
   "metadata": {},
   "outputs": [],
   "source": [
    "hepmc_mom_nj_compare = np.load(hepmc_mom_file_nj_compare, allow_pickle=True)\n",
    "events_nj_compare = np.load(events_file_nj_compare, allow_pickle=True)\n",
    "trials_nj_compare = np.load(trials_file_nj_compare, allow_pickle=True)\n",
    "\n",
    "hepmc_mom_nn = np.load(hepmc_mom_file_nn, allow_pickle=True)\n",
    "events_nn = np.load(events_file_nn, allow_pickle=True)\n",
    "trials_nn = np.load(trials_file_nn, allow_pickle=True)\n",
    "\n",
    "hepmc_mom_nj = np.load(hepmc_mom_file_nj, allow_pickle=True)\n",
    "events_nj = np.load(events_file_nj, allow_pickle=True)\n",
    "trials_nj = np.load(trials_file_nj, allow_pickle=True)"
   ]
  },
  {
   "cell_type": "code",
   "execution_count": 7,
   "metadata": {},
   "outputs": [],
   "source": [
    "assert np.sum(trials_nn) == np.sum(trials_nj)"
   ]
  },
  {
   "cell_type": "markdown",
   "metadata": {},
   "source": [
    "## Split data"
   ]
  },
  {
   "cell_type": "code",
   "execution_count": 8,
   "metadata": {},
   "outputs": [
    {
     "name": "stderr",
     "output_type": "stream",
     "text": [
      "100%|██████████| 3000000/3000000 [01:50<00:00, 27167.12it/s]\n"
     ]
    }
   ],
   "source": [
    "nn_fks_partition = FKSPartition(\n",
    "    momenta = list(hepmc_mom_nn),\n",
    "    labels = events_nn,\n",
    "    all_legs = all_legs\n",
    ")\n",
    "\n",
    "nn_cut_momenta, nn_near_momenta, nn_cut_labels, nn_near_labels = nn_fks_partition.cut_near_split(\n",
    "    delta_cut = delta_cut,\n",
    "    delta_near = delta_near\n",
    ")"
   ]
  },
  {
   "cell_type": "code",
   "execution_count": 9,
   "metadata": {},
   "outputs": [
    {
     "name": "stderr",
     "output_type": "stream",
     "text": [
      "100%|██████████| 3000000/3000000 [01:59<00:00, 25187.57it/s]\n"
     ]
    }
   ],
   "source": [
    "nj_fks_partition = FKSPartition(\n",
    "    momenta = list(hepmc_mom_nj),\n",
    "    labels = events_nj,\n",
    "    all_legs = all_legs\n",
    ")\n",
    "\n",
    "nj_cut_momenta, nj_near_momenta, nj_cut_labels, nj_near_labels = nj_fks_partition.cut_near_split(\n",
    "    delta_cut = delta_cut,\n",
    "    delta_near = delta_near\n",
    ")"
   ]
  },
  {
   "cell_type": "code",
   "execution_count": 10,
   "metadata": {},
   "outputs": [],
   "source": [
    "nn_near_round = np.round(nn_near_momenta, 6)\n",
    "nj_near_round = np.round(nj_near_momenta, 6)"
   ]
  },
  {
   "cell_type": "markdown",
   "metadata": {},
   "source": [
    "## Cross-section check"
   ]
  },
  {
   "cell_type": "code",
   "execution_count": 11,
   "metadata": {},
   "outputs": [
    {
     "name": "stdout",
     "output_type": "stream",
     "text": [
      "Comparison XS is 4.16388398332e-06\n"
     ]
    }
   ],
   "source": [
    "xs_compare = np.sum(events_nj_compare)/np.sum(trials_nj_compare)\n",
    "print (\"Comparison XS is {}\".format(xs_compare))"
   ]
  },
  {
   "cell_type": "code",
   "execution_count": 12,
   "metadata": {},
   "outputs": [
    {
     "name": "stdout",
     "output_type": "stream",
     "text": [
      "NN XS is 4.18056666517e-06\n"
     ]
    }
   ],
   "source": [
    "nn_xs = np.sum(events_nn)/np.sum(trials_nn)\n",
    "print (\"NN XS is {}\".format(nn_xs)) "
   ]
  },
  {
   "cell_type": "code",
   "execution_count": 13,
   "metadata": {},
   "outputs": [
    {
     "name": "stdout",
     "output_type": "stream",
     "text": [
      "NJ XS is 4.15915685358e-06\n"
     ]
    }
   ],
   "source": [
    "nj_xs = np.sum(events_nj)/np.sum(trials_nj)\n",
    "print (\"NJ XS is {}\".format(nj_xs)) "
   ]
  },
  {
   "cell_type": "code",
   "execution_count": 28,
   "metadata": {},
   "outputs": [],
   "source": [
    "f = np.sum(events_nj)/np.sum(trials_nj)\n",
    "f_2 = np.sum(events_nj**2)/np.sum(trials_nj)\n",
    "nj_xs_std = np.sqrt((f_2-f**2)/np.sum(trials_nj))"
   ]
  },
  {
   "cell_type": "code",
   "execution_count": 29,
   "metadata": {},
   "outputs": [
    {
     "data": {
      "text/plain": [
       "8.457771070598585e-09"
      ]
     },
     "execution_count": 29,
     "metadata": {},
     "output_type": "execute_result"
    }
   ],
   "source": [
    "nj_xs_std"
   ]
  },
  {
   "cell_type": "markdown",
   "metadata": {},
   "source": [
    "## Reweight"
   ]
  },
  {
   "cell_type": "code",
   "execution_count": 14,
   "metadata": {
    "scrolled": true
   },
   "outputs": [],
   "source": [
    "reweight_props = np.arange(0,1.1,0.1)"
   ]
  },
  {
   "cell_type": "code",
   "execution_count": 15,
   "metadata": {},
   "outputs": [],
   "source": [
    "chosen_max = np.random.randint(0,len(nn_near_round), int(np.max(reweight_props)*len(nn_near_round)))"
   ]
  },
  {
   "cell_type": "code",
   "execution_count": 16,
   "metadata": {},
   "outputs": [],
   "source": [
    "nn_near_chosen = nn_near_round[chosen_max]"
   ]
  },
  {
   "cell_type": "code",
   "execution_count": 17,
   "metadata": {},
   "outputs": [
    {
     "data": {
      "text/plain": [
       "array([[184.789495,   0.      ,   0.      , 184.789495],\n",
       "       [ 52.523328,   0.      ,   0.      , -52.523328],\n",
       "       [ 45.5356  ,  11.200946,   5.905134,  43.739673],\n",
       "       [ 97.009368,  59.170231, -57.287987,  51.261952],\n",
       "       [ 94.767855, -70.371178,  51.382853,  37.264542]])"
      ]
     },
     "execution_count": 17,
     "metadata": {},
     "output_type": "execute_result"
    }
   ],
   "source": [
    "nn_near_chosen[0]"
   ]
  },
  {
   "cell_type": "code",
   "execution_count": 18,
   "metadata": {},
   "outputs": [
    {
     "name": "stderr",
     "output_type": "stream",
     "text": [
      "264228it [49:14, 89.44it/s]\n"
     ]
    }
   ],
   "source": [
    "nj_indices = reconcile(nn_near_chosen, nj_near_round)"
   ]
  },
  {
   "cell_type": "code",
   "execution_count": 19,
   "metadata": {},
   "outputs": [],
   "source": [
    "assert len(nj_indices) == len(chosen_max)"
   ]
  },
  {
   "cell_type": "code",
   "execution_count": 20,
   "metadata": {},
   "outputs": [
    {
     "name": "stderr",
     "output_type": "stream",
     "text": [
      "100%|██████████| 264228/264228 [00:00<00:00, 869811.89it/s]\n"
     ]
    }
   ],
   "source": [
    "nj_indices = index_process(nj_indices)"
   ]
  },
  {
   "cell_type": "code",
   "execution_count": 21,
   "metadata": {},
   "outputs": [],
   "source": [
    "nn_near_labels_reweights = []\n",
    "for i in reweight_props:\n",
    "    nn_near_labels_new = deepcopy(nn_near_labels)\n",
    "    for jdx, j in enumerate(chosen_max[:int(i*len(nn_near_labels_new))]):\n",
    "        nn_near_labels_new[j] = nj_near_labels[nj_indices[jdx]]\n",
    "    nn_near_labels_reweights.append(nn_near_labels_new)"
   ]
  },
  {
   "cell_type": "code",
   "execution_count": 22,
   "metadata": {},
   "outputs": [
    {
     "name": "stdout",
     "output_type": "stream",
     "text": [
      "New XS is 4.18056666517e-06\n",
      "New XS is 4.17560691606e-06\n",
      "New XS is 4.17241299469e-06\n",
      "New XS is 4.16802748609e-06\n",
      "New XS is 4.16596987317e-06\n",
      "New XS is 4.16201199483e-06\n",
      "New XS is 4.15810100005e-06\n",
      "New XS is 4.15492321473e-06\n",
      "New XS is 4.15185458781e-06\n",
      "New XS is 4.14925340872e-06\n",
      "New XS is 4.14748982456e-06\n"
     ]
    }
   ],
   "source": [
    "nn_xs_reweights = []\n",
    "for i in nn_near_labels_reweights:\n",
    "    new_xs = np.sum(np.concatenate((nn_cut_labels, i)))/np.sum(trials_nn)\n",
    "    nn_xs_reweights.append(new_xs)\n",
    "    print (\"New XS is {}\".format(new_xs))"
   ]
  },
  {
   "cell_type": "code",
   "execution_count": 23,
   "metadata": {},
   "outputs": [],
   "source": [
    "nn_xs_reweights = np.array(nn_xs_reweights)"
   ]
  },
  {
   "cell_type": "markdown",
   "metadata": {},
   "source": [
    "## Plot convergence"
   ]
  },
  {
   "cell_type": "code",
   "execution_count": 24,
   "metadata": {},
   "outputs": [],
   "source": [
    "#nj_xs_std = 3.861174e-08"
   ]
  },
  {
   "cell_type": "code",
   "execution_count": 25,
   "metadata": {},
   "outputs": [],
   "source": [
    "#nj_xs = 4.138093e-06"
   ]
  },
  {
   "cell_type": "code",
   "execution_count": 30,
   "metadata": {},
   "outputs": [
    {
     "data": {
      "text/plain": [
       "0.0020335302005532385"
      ]
     },
     "execution_count": 30,
     "metadata": {},
     "output_type": "execute_result"
    }
   ],
   "source": [
    "nj_xs_std/nj_xs"
   ]
  },
  {
   "cell_type": "code",
   "execution_count": 38,
   "metadata": {},
   "outputs": [],
   "source": [
    "reweight_index = 6"
   ]
  },
  {
   "cell_type": "code",
   "execution_count": 41,
   "metadata": {},
   "outputs": [
    {
     "data": {
      "image/png": "[encoded data removed]",
      "text/plain": [
       "<Figure size 432x288 with 1 Axes>"
      ]
     },
     "metadata": {
      "needs_background": "light"
     },
     "output_type": "display_data"
    }
   ],
   "source": [
    "#plt.rc('text', usetex=True)\n",
    "#plt.rc('font', family='serif')\n",
    "\n",
    "plt.scatter(np.array(reweight_props[:reweight_index])*100, nn_xs_reweights[:reweight_index]/nj_xs, color=\"blue\", s=60)\n",
    "plt.plot(np.array(reweight_props[:reweight_index])*100, nn_xs_reweights[:reweight_index]/nj_xs, color=\"blue\")\n",
    "plt.hlines(1.,-2,52, linestyles='--')\n",
    "plt.fill_between(np.array(reweight_props[:reweight_index])*100, 1-nj_xs_std/nj_xs, 1+nj_xs_std/nj_xs, color=\"red\", alpha=0.3)\n",
    "\n",
    "plt.tick_params(axis='x', labelsize=15, direction = 'in', top = True, which='both')\n",
    "plt.tick_params(axis='y', labelsize=15, direction = 'in', right = True, which='both')\n",
    "\n",
    "plt.ylim((0.995,1.008))\n",
    "plt.xlabel(r'$\\mathcal{R}_{\\mathrm{div}}$ reweighted [\\%]', fontsize=17, labelpad=10)\n",
    "plt.ylabel(r'$\\sigma^{\\mathrm{(RW)}}/\\sigma^{\\mathrm{(NJet)}}$', fontsize=17, labelpad=10)\n",
    "\n",
    "plt.savefig('./paper_plots/5_point/100k_unit_reweighting.pdf', dpi=150, bbox_inches='tight')\n",
    "plt.show()"
   ]
  },
  {
   "cell_type": "code",
   "execution_count": null,
   "metadata": {},
   "outputs": [],
   "source": []
  }
 ],
 "metadata": {
  "kernelspec": {
   "display_name": "n3jet-env-p2",
   "language": "python",
   "name": "n3jet-env-p2"
  },
  "language_info": {
   "codemirror_mode": {
    "name": "ipython",
    "version": 2
   },
   "file_extension": ".py",
   "mimetype": "text/x-python",
   "name": "python",
   "nbconvert_exporter": "python",
   "pygments_lexer": "ipython2",
   "version": "2.7.5"
  }
 },
 "nbformat": 4,
 "nbformat_minor": 4
}
