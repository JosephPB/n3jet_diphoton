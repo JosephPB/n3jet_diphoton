{
 "cells": [
  {
   "cell_type": "code",
   "execution_count": 1,
   "metadata": {},
   "outputs": [
    {
     "name": "stderr",
     "output_type": "stream",
     "text": [
      "\n",
      "Bad key \"legend.title_fontsize\" on line 22 in\n",
      "/mt/home/jbullock/.config/matplotlib/stylelib/notebook.mplstyle.\n",
      "You probably need to get an updated matplotlibrc file from\n",
      "http://github.com/matplotlib/matplotlib/blob/master/matplotlibrc.template\n",
      "or from the matplotlib source distribution\n",
      "Using TensorFlow backend.\n"
     ]
    }
   ],
   "source": [
    "import numpy as np\n",
    "import matplotlib.pyplot as plt\n",
    "from matplotlib.ticker import Locator, MaxNLocator # added \n",
    "from tqdm import tqdm\n",
    "from scipy import stats, interpolate\n",
    "import yaml\n",
    "\n",
    "from n3jet.general import FKSModelRun\n",
    "from n3jet.utils.general_utils import dot"
   ]
  },
  {
   "cell_type": "markdown",
   "metadata": {},
   "source": [
    "## Set up"
   ]
  },
  {
   "cell_type": "code",
   "execution_count": 2,
   "metadata": {},
   "outputs": [],
   "source": [
    "yaml_file = '/mt/home/jbullock/n3jet/n3jet/runs/runs/diphoton/3g2A/RAMBO/parallel_fixed/fks_all_legs_all_pairs_new_sherpa_cuts_pdf_njet.yaml'"
   ]
  },
  {
   "cell_type": "code",
   "execution_count": 3,
   "metadata": {},
   "outputs": [],
   "source": [
    "save_dir = 'paper_plots/5_point/error_plots/unit_fks_RAMBO_100k_3M/'"
   ]
  },
  {
   "cell_type": "markdown",
   "metadata": {},
   "source": [
    "## Data processing"
   ]
  },
  {
   "cell_type": "code",
   "execution_count": 4,
   "metadata": {},
   "outputs": [
    {
     "name": "stdout",
     "output_type": "stream",
     "text": [
      "/mt/home/jbullock/n3jet/n3jet/runs/runs/diphoton/3g2A/RAMBO/parallel_fixed/fks_all_legs_all_pairs_new_sherpa_cuts_pdf_njet.yaml\n"
     ]
    }
   ],
   "source": [
    "test_fks_model = FKSModelRun.from_yaml(yaml_file, training=False)"
   ]
  },
  {
   "cell_type": "code",
   "execution_count": 5,
   "metadata": {},
   "outputs": [
    {
     "name": "stdout",
     "output_type": "stream",
     "text": [
      "############### Momenta loaded ###############\n",
      "############### NJet loaded ###############\n",
      "Training on 1000000 PS points\n"
     ]
    }
   ],
   "source": [
    "test_momenta, test_nj = test_fks_model.load_data()"
   ]
  },
  {
   "cell_type": "code",
   "execution_count": 6,
   "metadata": {},
   "outputs": [
    {
     "name": "stderr",
     "output_type": "stream",
     "text": [
      "100%|██████████| 1000000/1000000 [00:26<00:00, 37328.75it/s]\n",
      "  2%|▏         | 1887/88451 [00:00<00:04, 18865.83it/s]"
     ]
    },
    {
     "name": "stdout",
     "output_type": "stream",
     "text": [
      "Pair 1 of 9\n"
     ]
    },
    {
     "name": "stderr",
     "output_type": "stream",
     "text": [
      "100%|██████████| 88451/88451 [00:03<00:00, 22234.38it/s]\n",
      "  3%|▎         | 2403/88451 [00:00<00:03, 24027.10it/s]"
     ]
    },
    {
     "name": "stdout",
     "output_type": "stream",
     "text": [
      "Pair 2 of 9\n"
     ]
    },
    {
     "name": "stderr",
     "output_type": "stream",
     "text": [
      "100%|██████████| 88451/88451 [00:03<00:00, 22456.16it/s]\n",
      "  3%|▎         | 2418/88451 [00:00<00:03, 24176.62it/s]"
     ]
    },
    {
     "name": "stdout",
     "output_type": "stream",
     "text": [
      "Pair 3 of 9\n"
     ]
    },
    {
     "name": "stderr",
     "output_type": "stream",
     "text": [
      "100%|██████████| 88451/88451 [00:03<00:00, 25157.50it/s]\n",
      "  3%|▎         | 2688/88451 [00:00<00:03, 26874.13it/s]"
     ]
    },
    {
     "name": "stdout",
     "output_type": "stream",
     "text": [
      "Pair 4 of 9\n"
     ]
    },
    {
     "name": "stderr",
     "output_type": "stream",
     "text": [
      "100%|██████████| 88451/88451 [00:03<00:00, 23540.25it/s]\n",
      "  2%|▏         | 1511/88451 [00:00<00:05, 14950.64it/s]"
     ]
    },
    {
     "name": "stdout",
     "output_type": "stream",
     "text": [
      "Pair 5 of 9\n"
     ]
    },
    {
     "name": "stderr",
     "output_type": "stream",
     "text": [
      "100%|██████████| 88451/88451 [00:03<00:00, 24855.19it/s]\n",
      "  3%|▎         | 2786/88451 [00:00<00:03, 27856.37it/s]"
     ]
    },
    {
     "name": "stdout",
     "output_type": "stream",
     "text": [
      "Pair 6 of 9\n"
     ]
    },
    {
     "name": "stderr",
     "output_type": "stream",
     "text": [
      "100%|██████████| 88451/88451 [00:03<00:00, 24127.17it/s]\n",
      "  2%|▏         | 2049/88451 [00:00<00:04, 20489.38it/s]"
     ]
    },
    {
     "name": "stdout",
     "output_type": "stream",
     "text": [
      "Pair 7 of 9\n"
     ]
    },
    {
     "name": "stderr",
     "output_type": "stream",
     "text": [
      "100%|██████████| 88451/88451 [00:03<00:00, 22329.32it/s]\n",
      "  2%|▏         | 2006/88451 [00:00<00:04, 20055.57it/s]"
     ]
    },
    {
     "name": "stdout",
     "output_type": "stream",
     "text": [
      "Pair 8 of 9\n"
     ]
    },
    {
     "name": "stderr",
     "output_type": "stream",
     "text": [
      "100%|██████████| 88451/88451 [00:05<00:00, 15878.96it/s]\n",
      "  2%|▏         | 1719/88451 [00:00<00:05, 17188.46it/s]"
     ]
    },
    {
     "name": "stdout",
     "output_type": "stream",
     "text": [
      "Pair 9 of 9\n"
     ]
    },
    {
     "name": "stderr",
     "output_type": "stream",
     "text": [
      "100%|██████████| 88451/88451 [00:03<00:00, 22607.11it/s]\n"
     ]
    }
   ],
   "source": [
    "cut_momenta, near_momenta, cut_nj, near_nj, pairs, _, weights = test_fks_model.split_data(\n",
    "    momenta = test_momenta, \n",
    "    nj = test_nj,\n",
    "    return_weights = True\n",
    ")"
   ]
  },
  {
   "cell_type": "code",
   "execution_count": 7,
   "metadata": {},
   "outputs": [],
   "source": [
    "cut_nj = np.array(cut_nj)\n",
    "near_nj = np.array(near_nj)\n",
    "total_nj = np.concatenate((cut_nj, near_nj))\n",
    "total_momenta = np.concatenate((cut_momenta, near_momenta))"
   ]
  },
  {
   "cell_type": "code",
   "execution_count": 8,
   "metadata": {},
   "outputs": [],
   "source": [
    "assert len(total_nj) == len(test_momenta)\n",
    "assert len(total_momenta) == len(test_momenta)\n",
    "\n",
    "test_points = len(test_momenta)\n",
    "model_dir_new = test_fks_model.model_base_dir + test_fks_model.model_dir"
   ]
  },
  {
   "cell_type": "code",
   "execution_count": 9,
   "metadata": {
    "scrolled": true
   },
   "outputs": [
    {
     "name": "stderr",
     "output_type": "stream",
     "text": [
      "100%|██████████| 20/20 [00:00<00:00, 177.89it/s]\n"
     ]
    }
   ],
   "source": [
    "nn_cut_all = []\n",
    "nn_near_all = []\n",
    "for t in tqdm(range(test_fks_model.training_reruns)):\n",
    "    nn_cut = np.load(model_dir_new + '_{}/pred_cut_{}.npy'.format(t,test_points), allow_pickle=True)\n",
    "    nn_near = np.load(model_dir_new + '_{}/pred_near_{}.npy'.format(t,test_points), allow_pickle=True)\n",
    "    nn_cut_all.append(nn_cut)\n",
    "    nn_near_all.append(nn_near)\n",
    "\n",
    "nn_cut_std = np.std(nn_cut_all, ddof=1, axis=0)\n",
    "nn_near_std = np.std(nn_near_all, ddof=1, axis=0)\n",
    "    \n",
    "nn_cut_mean = np.mean(nn_cut_all, axis=0)\n",
    "nn_near_mean = np.mean(nn_near_all, axis=0)\n",
    "    \n",
    "assert len(nn_cut_mean) == len(cut_nj)\n",
    "assert len(nn_near_mean) == len(near_nj)\n",
    "    \n",
    "total_nn = np.concatenate((nn_cut_mean, nn_near_mean))\n",
    "total_nn_std = np.concatenate((nn_cut_std, nn_near_std))\n",
    "\n",
    "assert len(total_nn) == test_points\n",
    "assert len(total_nn_std) == test_points"
   ]
  },
  {
   "cell_type": "markdown",
   "metadata": {},
   "source": [
    "## x_1 and x_2 RMSE"
   ]
  },
  {
   "cell_type": "code",
   "execution_count": 10,
   "metadata": {},
   "outputs": [],
   "source": [
    "sq_errors = (total_nn - total_nj)**2"
   ]
  },
  {
   "cell_type": "code",
   "execution_count": 11,
   "metadata": {},
   "outputs": [],
   "source": [
    "errors_sorted = np.argsort(sq_errors)"
   ]
  },
  {
   "cell_type": "code",
   "execution_count": 12,
   "metadata": {},
   "outputs": [],
   "source": [
    "top_k_remove = 1"
   ]
  },
  {
   "cell_type": "code",
   "execution_count": 13,
   "metadata": {},
   "outputs": [],
   "source": [
    "total_momenta = total_momenta[errors_sorted[:-top_k_remove]]\n",
    "sq_errors = sq_errors[errors_sorted[:-top_k_remove]]"
   ]
  },
  {
   "cell_type": "code",
   "execution_count": 14,
   "metadata": {},
   "outputs": [],
   "source": [
    "s_com = []\n",
    "for i in total_momenta:\n",
    "    s_com.append(np.sqrt(2*dot(i[0],i[1])))"
   ]
  },
  {
   "cell_type": "code",
   "execution_count": 15,
   "metadata": {},
   "outputs": [],
   "source": [
    "s_com = np.array(s_com)"
   ]
  },
  {
   "cell_type": "code",
   "execution_count": 16,
   "metadata": {},
   "outputs": [],
   "source": [
    "x_1 = total_momenta[:,0,0]/500.\n",
    "x_2 = total_momenta[:,1,0]/500."
   ]
  },
  {
   "cell_type": "code",
   "execution_count": 17,
   "metadata": {},
   "outputs": [],
   "source": [
    "bins = np.arange(0,1.05,0.05)"
   ]
  },
  {
   "cell_type": "code",
   "execution_count": 18,
   "metadata": {},
   "outputs": [
    {
     "name": "stderr",
     "output_type": "stream",
     "text": [
      "/scratch/jbullock/venvs/n3jet-env-p2/lib/python2.7/site-packages/ipykernel_launcher.py:3: RuntimeWarning: invalid value encountered in divide\n",
      "  This is separate from the ipykernel package so we can avoid doing imports until\n"
     ]
    }
   ],
   "source": [
    "counts, bins = np.histogram(x_1,bins=bins)\n",
    "values, bins = np.histogram(x_1,weights=sq_errors,bins=bins)\n",
    "norm_values = values/counts\n",
    "norm_values[np.argwhere(np.isnan(norm_values))] = 0\n",
    "norm_values = np.sqrt(norm_values)"
   ]
  },
  {
   "cell_type": "code",
   "execution_count": 19,
   "metadata": {},
   "outputs": [],
   "source": [
    "save_fig = 'x_1_error_plot'"
   ]
  },
  {
   "cell_type": "code",
   "execution_count": 23,
   "metadata": {},
   "outputs": [
    {
     "data": {
      "image/png": "[encoded data removed]",
      "text/plain": [
       "<Figure size 432x288 with 2 Axes>"
      ]
     },
     "metadata": {
      "needs_background": "light"
     },
     "output_type": "display_data"
    }
   ],
   "source": [
    "plt.rc('text', usetex=True)\n",
    "plt.rc('font', family='serif')\n",
    "\n",
    "fig, ax1 = plt.subplots()\n",
    "\n",
    "ax1.bar(bins[:-1],norm_values,width=0.05, color='orange', alpha=0.6, label=\"RMSE\")\n",
    "ax1.set_ylabel(r'RMSE', fontsize=17, labelpad=10)\n",
    "ax1.set_xlabel(r'$x_1$', fontsize=17, labelpad=10)\n",
    "ax1.tick_params(axis='x', labelsize=15, direction = 'in', top = True)\n",
    "ax1.tick_params(axis='y', labelsize=15, direction = 'in', right = True)\n",
    "ax1.ticklabel_format(style='sci', axis='y', scilimits=(0,0))\n",
    "\n",
    "ax2 = ax1.twinx()\n",
    "\n",
    "ax2.hist(x_1,bins=50,density=True, color='blue', alpha=0.6, label=\"Frequency\")\n",
    "ax2.set_ylabel(r'Frequency [\\%]', fontsize=17, labelpad=25, rotation=270)\n",
    "ax2.tick_params(axis='y', labelsize=15, direction = 'in', right = True)\n",
    "ax1.legend(prop={\"size\":17}, frameon = False, loc='upper left')\n",
    "ax2.legend(prop={\"size\":17}, frameon = False, loc='upper right')\n",
    "\n",
    "ax1.set_ylim((0,5e-5))\n",
    "ax2.set_ylim((0,5))\n",
    "\n",
    "plt.savefig(save_dir + save_fig + '.png', dpi=150, bbox_inches='tight')\n",
    "plt.show()"
   ]
  },
  {
   "cell_type": "code",
   "execution_count": 24,
   "metadata": {},
   "outputs": [],
   "source": [
    "counts, bins = np.histogram(x_2,bins=bins)\n",
    "values, bins = np.histogram(x_2,weights=sq_errors,bins=bins)\n",
    "norm_values = values/counts\n",
    "norm_values[np.argwhere(np.isnan(norm_values))] = 0\n",
    "norm_values = np.sqrt(norm_values)"
   ]
  },
  {
   "cell_type": "code",
   "execution_count": 25,
   "metadata": {},
   "outputs": [],
   "source": [
    "save_fig = 'x_2_error_plot'"
   ]
  },
  {
   "cell_type": "code",
   "execution_count": 26,
   "metadata": {},
   "outputs": [
    {
     "data": {
      "image/png": "[encoded data removed]",
      "text/plain": [
       "<Figure size 432x288 with 2 Axes>"
      ]
     },
     "metadata": {
      "needs_background": "light"
     },
     "output_type": "display_data"
    }
   ],
   "source": [
    "plt.rc('text', usetex=True)\n",
    "plt.rc('font', family='serif')\n",
    "\n",
    "fig, ax1 = plt.subplots()\n",
    "\n",
    "ax1.bar(bins[:-1],norm_values,width=0.05, color='orange', alpha=0.6, label=\"RMSE\")\n",
    "ax1.set_ylabel(r'RMSE', fontsize=17, labelpad=10)\n",
    "ax1.set_xlabel(r'$x_2$', fontsize=17, labelpad=10)\n",
    "ax1.tick_params(axis='x', labelsize=15, direction = 'in', top = True)\n",
    "ax1.tick_params(axis='y', labelsize=15, direction = 'in', right = True)\n",
    "ax1.ticklabel_format(style='sci', axis='y', scilimits=(0,0))\n",
    "\n",
    "ax2 = ax1.twinx()\n",
    "\n",
    "ax2.hist(x_1,bins=50,density=True, color='blue', alpha=0.6, label=\"Frequency\")\n",
    "ax2.set_ylabel(r'Frequency [\\%]', fontsize=17, labelpad=25, rotation=270)\n",
    "ax2.tick_params(axis='y', labelsize=15, direction = 'in', right = True)\n",
    "ax1.legend(prop={\"size\":17}, frameon = False, loc='upper left')\n",
    "ax2.legend(prop={\"size\":17}, frameon = False, loc='upper right')\n",
    "\n",
    "ax1.set_ylim((0,5e-5))\n",
    "ax2.set_ylim((0,5))\n",
    "\n",
    "plt.savefig(save_dir + save_fig + '.png', dpi=150, bbox_inches='tight')\n",
    "plt.show()"
   ]
  },
  {
   "cell_type": "code",
   "execution_count": null,
   "metadata": {},
   "outputs": [],
   "source": []
  }
 ],
 "metadata": {
  "kernelspec": {
   "display_name": "n3jet-env-p2",
   "language": "python",
   "name": "n3jet-env-p2"
  },
  "language_info": {
   "codemirror_mode": {
    "name": "ipython",
    "version": 2
   },
   "file_extension": ".py",
   "mimetype": "text/x-python",
   "name": "python",
   "nbconvert_exporter": "python",
   "pygments_lexer": "ipython2",
   "version": "2.7.5"
  }
 },
 "nbformat": 4,
 "nbformat_minor": 5
}
