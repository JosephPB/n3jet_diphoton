{
 "cells": [
  {
   "cell_type": "code",
   "execution_count": 4,
   "metadata": {},
   "outputs": [],
   "source": [
    "import numpy as np\n",
    "import matplotlib.pyplot as plt\n",
    "from matplotlib.ticker import Locator, MaxNLocator # added \n",
    "from tqdm import tqdm\n",
    "from scipy import stats, interpolate\n",
    "import yaml\n",
    "\n",
    "from n3jet.utils import FKSPartition\n",
    "from n3jet.utils.general_utils import bool_convert"
   ]
  },
  {
   "cell_type": "code",
   "execution_count": 2,
   "metadata": {},
   "outputs": [],
   "source": [
    "yaml_file_5 = '/mt/home/jbullock/n3jet/n3jet/runs/runs/diphoton/3g2A/RAMBO/parallel_fixed/fks_all_legs_all_pairs_new_sherpa_cuts_pdf_njet.yaml'\n",
    "yaml_file_6 = '/mt/home/jbullock/n3jet/n3jet/runs/runs/diphoton/4g2A/RAMBO/fks_all_legs_all_pairs_new_sherpa_cuts_pdf_njet.yaml'"
   ]
  },
  {
   "cell_type": "code",
   "execution_count": 3,
   "metadata": {},
   "outputs": [],
   "source": [
    "delta_nears = [0.001,0.0025,0.005,0.01,0.02,0.03,0.04]"
   ]
  },
  {
   "cell_type": "markdown",
   "metadata": {},
   "source": [
    "## 5-point"
   ]
  },
  {
   "cell_type": "code",
   "execution_count": 5,
   "metadata": {},
   "outputs": [],
   "source": [
    "with open(yaml_file_5) as f:\n",
    "    y = yaml.load(f, Loader=yaml.FullLoader)"
   ]
  },
  {
   "cell_type": "code",
   "execution_count": 6,
   "metadata": {},
   "outputs": [],
   "source": [
    "momenta_file_5 = y[\"testing\"][\"mom_file\"]\n",
    "events_file_5 = y[\"testing\"][\"nj_file\"]\n",
    "testing_points_5 = y[\"testing\"][\"testing_points\"]\n",
    "delta_cut_5 = y[\"delta_cut\"]\n",
    "all_legs_5 = bool_convert(y[\"all_legs\"])"
   ]
  },
  {
   "cell_type": "code",
   "execution_count": 7,
   "metadata": {},
   "outputs": [],
   "source": [
    "momenta_5 = np.load(momenta_file_5, allow_pickle=True)\n",
    "momenta_5 = momenta_5.tolist()"
   ]
  },
  {
   "cell_type": "code",
   "execution_count": 8,
   "metadata": {},
   "outputs": [],
   "source": [
    "nj_inf_5 = np.load(events_file_5, allow_pickle=True)"
   ]
  },
  {
   "cell_type": "code",
   "execution_count": 9,
   "metadata": {},
   "outputs": [],
   "source": [
    "fks_5 = FKSPartition(\n",
    "    momenta = momenta_5,\n",
    "    labels = nj_inf_5,\n",
    "    all_legs = all_legs_5\n",
    ")"
   ]
  },
  {
   "cell_type": "code",
   "execution_count": 12,
   "metadata": {},
   "outputs": [
    {
     "name": "stderr",
     "output_type": "stream",
     "text": [
      "100%|██████████| 1000000/1000000 [00:41<00:00, 23849.09it/s]\n",
      "100%|██████████| 1000000/1000000 [00:42<00:00, 23398.82it/s]\n",
      "100%|██████████| 1000000/1000000 [00:42<00:00, 23466.65it/s]\n",
      "100%|██████████| 1000000/1000000 [00:43<00:00, 23077.89it/s]\n",
      "100%|██████████| 1000000/1000000 [00:42<00:00, 23507.03it/s]\n",
      "100%|██████████| 1000000/1000000 [00:42<00:00, 23707.82it/s]\n",
      "100%|██████████| 1000000/1000000 [00:40<00:00, 24649.93it/s]\n"
     ]
    }
   ],
   "source": [
    "test_cut_momentas_5 = []\n",
    "test_near_momentas_5 = []\n",
    "test_cut_njs_5 = []\n",
    "test_near_njs_5 = []\n",
    "\n",
    "for delta_near in delta_nears:\n",
    "    test_cut_momenta, test_near_momenta, test_cut_nj, test_near_nj = fks_5.cut_near_split(\n",
    "        delta_cut = delta_cut_5,\n",
    "        delta_near = delta_near\n",
    "    )\n",
    "    test_cut_momentas_5.append(test_cut_momenta)\n",
    "    test_near_momentas_5.append(test_near_momenta)\n",
    "    test_cut_njs_5.append(test_cut_nj)\n",
    "    test_near_njs_5.append(test_near_nj)"
   ]
  },
  {
   "cell_type": "markdown",
   "metadata": {},
   "source": [
    "## 6-point"
   ]
  },
  {
   "cell_type": "code",
   "execution_count": 13,
   "metadata": {},
   "outputs": [],
   "source": [
    "with open(yaml_file_6) as f:\n",
    "    y = yaml.load(f, Loader=yaml.FullLoader)"
   ]
  },
  {
   "cell_type": "code",
   "execution_count": 14,
   "metadata": {},
   "outputs": [],
   "source": [
    "momenta_file_6 = y[\"testing\"][\"mom_file\"]\n",
    "events_file_6 = y[\"testing\"][\"nj_file\"]\n",
    "testing_points_6 = y[\"testing\"][\"testing_points\"]\n",
    "delta_cut_6 = y[\"delta_cut\"]\n",
    "all_legs_6 = bool_convert(y[\"all_legs\"])"
   ]
  },
  {
   "cell_type": "code",
   "execution_count": 15,
   "metadata": {},
   "outputs": [],
   "source": [
    "momenta_6 = np.load(momenta_file_6, allow_pickle=True)\n",
    "momenta_6 = momenta_6.tolist()"
   ]
  },
  {
   "cell_type": "code",
   "execution_count": 16,
   "metadata": {},
   "outputs": [],
   "source": [
    "nj_inf_6 = np.load(events_file_6, allow_pickle=True)"
   ]
  },
  {
   "cell_type": "code",
   "execution_count": 17,
   "metadata": {},
   "outputs": [],
   "source": [
    "fks_6 = FKSPartition(\n",
    "    momenta = momenta_6,\n",
    "    labels = nj_inf_6,\n",
    "    all_legs = all_legs_6\n",
    ")"
   ]
  },
  {
   "cell_type": "code",
   "execution_count": 18,
   "metadata": {},
   "outputs": [
    {
     "name": "stderr",
     "output_type": "stream",
     "text": [
      "100%|██████████| 1000000/1000000 [00:50<00:00, 19674.00it/s]\n",
      "100%|██████████| 1000000/1000000 [00:54<00:00, 18504.80it/s]\n",
      "100%|██████████| 1000000/1000000 [00:49<00:00, 20067.03it/s]\n",
      "100%|██████████| 1000000/1000000 [00:53<00:00, 18780.95it/s]\n",
      "100%|██████████| 1000000/1000000 [00:53<00:00, 18608.14it/s]\n",
      "100%|██████████| 1000000/1000000 [00:54<00:00, 18203.66it/s]\n",
      "100%|██████████| 1000000/1000000 [00:54<00:00, 18297.42it/s]\n"
     ]
    }
   ],
   "source": [
    "test_cut_momentas_6 = []\n",
    "test_near_momentas_6 = []\n",
    "test_cut_njs_6 = []\n",
    "test_near_njs_6 = []\n",
    "\n",
    "for delta_near in delta_nears:\n",
    "    test_cut_momenta, test_near_momenta, test_cut_nj, test_near_nj = fks_6.cut_near_split(\n",
    "        delta_cut = delta_cut_6,\n",
    "        delta_near = delta_near\n",
    "    )\n",
    "    test_cut_momentas_6.append(test_cut_momenta)\n",
    "    test_near_momentas_6.append(test_near_momenta)\n",
    "    test_cut_njs_6.append(test_cut_nj)\n",
    "    test_near_njs_6.append(test_near_nj)"
   ]
  },
  {
   "cell_type": "markdown",
   "metadata": {},
   "source": [
    "## Plotting"
   ]
  },
  {
   "cell_type": "code",
   "execution_count": 32,
   "metadata": {},
   "outputs": [],
   "source": [
    "lengths_5 = []\n",
    "x_labels = []\n",
    "for idx, i in enumerate(test_near_momentas_5):\n",
    "    lengths_5.append(len(i))\n",
    "    x_labels.append(delta_nears[idx])\n",
    "lengths_6 = []\n",
    "for idx, i in enumerate(test_near_momentas_6):\n",
    "    lengths_6.append(len(i))"
   ]
  },
  {
   "cell_type": "code",
   "execution_count": 47,
   "metadata": {},
   "outputs": [
    {
     "data": {
      "image/png": "[encoded data removed]",
      "text/plain": [
       "<Figure size 432x288 with 1 Axes>"
      ]
     },
     "metadata": {
      "needs_background": "light"
     },
     "output_type": "display_data"
    }
   ],
   "source": [
    "plt.rc('text', usetex=True)\n",
    "plt.rc('font', family='serif')\n",
    "\n",
    "x = np.arange(len(delta_nears))\n",
    "\n",
    "plt.bar(x-0.2, np.array(lengths_5)*100/float(testing_points_5), width=0.4, align='center', color='orange', alpha=0.7, label=r'$gg\\rightarrow\\gamma\\gamma g$')\n",
    "plt.bar(x+0.2, np.array(lengths_6)*100/float(testing_points_6), width=0.4, align='center', color='blue', alpha=0.7, label=r'$gg\\rightarrow\\gamma\\gamma gg$')\n",
    "\n",
    "plt.xticks(x, x_labels)\n",
    "\n",
    "plt.tick_params(axis='x', labelsize=15, direction = 'in', top = True, which='both')\n",
    "plt.tick_params(axis='y', labelsize=15, direction = 'in', right = True, which='both')\n",
    "plt.yscale('log')\n",
    "\n",
    "plt.ylabel('Fraction of training set (\\%)', fontsize=17, labelpad=10)\n",
    "plt.xlabel(r'$y_{\\mathrm{cut}}$', fontsize=17, labelpad=10)\n",
    "\n",
    "plt.legend(prop={\"size\":17}, frameon = False, loc='upper left', bbox_to_anchor=(1.05, 1))\n",
    "\n",
    "plt.savefig('./paper_plots/y_cut_tuning.pdf', dpi=150, bbox_inches='tight')\n",
    "plt.show()"
   ]
  },
  {
   "cell_type": "code",
   "execution_count": null,
   "metadata": {},
   "outputs": [],
   "source": []
  }
 ],
 "metadata": {
  "kernelspec": {
   "display_name": "n3jet-env-p2",
   "language": "python",
   "name": "n3jet-env-p2"
  },
  "language_info": {
   "codemirror_mode": {
    "name": "ipython",
    "version": 2
   },
   "file_extension": ".py",
   "mimetype": "text/x-python",
   "name": "python",
   "nbconvert_exporter": "python",
   "pygments_lexer": "ipython2",
   "version": "2.7.5"
  }
 },
 "nbformat": 4,
 "nbformat_minor": 4
}
