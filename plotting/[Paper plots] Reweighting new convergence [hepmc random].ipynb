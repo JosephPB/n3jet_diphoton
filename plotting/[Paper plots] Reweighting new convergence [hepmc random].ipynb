{
 "cells": [
  {
   "cell_type": "code",
   "execution_count": 1,
   "metadata": {},
   "outputs": [
    {
     "name": "stderr",
     "output_type": "stream",
     "text": [
      "\n",
      "Bad key \"legend.title_fontsize\" on line 22 in\n",
      "/mt/home/jbullock/.config/matplotlib/stylelib/notebook.mplstyle.\n",
      "You probably need to get an updated matplotlibrc file from\n",
      "http://github.com/matplotlib/matplotlib/blob/master/matplotlibrc.template\n",
      "or from the matplotlib source distribution\n"
     ]
    }
   ],
   "source": [
    "import os\n",
    "import numpy as np\n",
    "import matplotlib.pyplot as plt\n",
    "from tqdm import tqdm\n",
    "import yaml\n",
    "from copy import deepcopy\n",
    "\n",
    "from n3jet.utils import FKSPartition\n",
    "from n3jet.utils.general_utils import (\n",
    "    bool_convert,\n",
    "    dot\n",
    ")"
   ]
  },
  {
   "cell_type": "code",
   "execution_count": null,
   "metadata": {},
   "outputs": [],
   "source": [
    "plt.rc('text', usetex=True)\n",
    "plt.rc('font', family='serif')"
   ]
  },
  {
   "cell_type": "code",
   "execution_count": 32,
   "metadata": {},
   "outputs": [],
   "source": [
    "# original NJet to compare against\n",
    "nj_compare_dir = '/mt/batch/jbullock/Sherpa_NJet/runs/diphoton/4g2A/RAMBO/parallel_fixed/integration_grid/NJet_NJet_unit_grid_2/'\n",
    "hepmc_mom_file_nj_compare = nj_compare_dir + 'full_momenta_events_3M_new_sherpa_cuts_PDF.npy'\n",
    "events_file_nj_compare = nj_compare_dir + 'original_weights_events_3M_new_sherpa_cuts_PDF.npy'\n",
    "trials_file_nj_compare = nj_compare_dir + 'trials_events_3M_new_sherpa_cuts_PDF.npy'\n",
    "\n",
    "# NN files for reweighting\n",
    "nn_dir = '/mt/batch/jbullock/Sherpa_NJet/runs/diphoton/4g2A/RAMBO/parallel_fixed/integration_grid/nn_NJet_unit_grid_2_delta_0001/'\n",
    "hepmc_mom_file_nn = nn_dir + 'full_momenta_events_3M_new_sherpa_cuts_PDF.npy'\n",
    "events_file_nn = nn_dir + 'original_weights_events_3M_new_sherpa_cuts_PDF.npy'\n",
    "trials_file_nn = nn_dir + 'trials_events_3M_new_sherpa_cuts_PDF.npy'"
   ]
  },
  {
   "cell_type": "code",
   "execution_count": 33,
   "metadata": {},
   "outputs": [],
   "source": [
    "all_legs = True\n",
    "delta_cut = 0.0\n",
    "delta_near = 0.001"
   ]
  },
  {
   "cell_type": "markdown",
   "metadata": {},
   "source": [
    "## Load data"
   ]
  },
  {
   "cell_type": "code",
   "execution_count": 34,
   "metadata": {},
   "outputs": [],
   "source": [
    "hepmc_mom_nj_compare = np.load(hepmc_mom_file_nj_compare, allow_pickle=True)\n",
    "events_nj_compare = np.load(events_file_nj_compare, allow_pickle=True)\n",
    "trials_nj_compare = np.load(trials_file_nj_compare, allow_pickle=True)\n",
    "\n",
    "hepmc_mom_nn = np.load(hepmc_mom_file_nn, allow_pickle=True)\n",
    "events_nn = np.load(events_file_nn, allow_pickle=True)\n",
    "trials_nn = np.load(trials_file_nn, allow_pickle=True)"
   ]
  },
  {
   "cell_type": "code",
   "execution_count": 35,
   "metadata": {},
   "outputs": [
    {
     "name": "stderr",
     "output_type": "stream",
     "text": [
      "100%|██████████| 1500000/1500000 [01:11<00:00, 21120.41it/s]\n"
     ]
    }
   ],
   "source": [
    "nn_fks_partition = FKSPartition(\n",
    "    momenta = list(hepmc_mom_nn),\n",
    "    labels = events_nn,\n",
    "    all_legs = all_legs\n",
    ")\n",
    "\n",
    "nn_cut_momenta, nn_near_momenta, nn_cut_labels, nn_near_labels, nn_cut_indices, nn_near_indices = nn_fks_partition.cut_near_split(\n",
    "    delta_cut = delta_cut,\n",
    "    delta_near = delta_near,\n",
    "    return_indices = True\n",
    ")"
   ]
  },
  {
   "cell_type": "code",
   "execution_count": 36,
   "metadata": {},
   "outputs": [
    {
     "name": "stderr",
     "output_type": "stream",
     "text": [
      "100%|██████████| 1539200/1539200 [02:23<00:00, 10718.03it/s]\n"
     ]
    }
   ],
   "source": [
    "nj_fks_partition = FKSPartition(\n",
    "    momenta = list(hepmc_mom_nj_compare),\n",
    "    labels = events_nj_compare,\n",
    "    all_legs = all_legs\n",
    ")\n",
    "\n",
    "nj_cut_momenta, nj_near_momenta, nj_cut_labels, nj_near_labels, nj_cut_indices, nj_near_indices = nj_fks_partition.cut_near_split(\n",
    "    delta_cut = delta_cut,\n",
    "    delta_near = delta_near,\n",
    "    return_indices = True\n",
    ")"
   ]
  },
  {
   "cell_type": "code",
   "execution_count": 37,
   "metadata": {},
   "outputs": [],
   "source": [
    "nn_near_labels = np.array(nn_near_labels)\n",
    "nn_cut_trials = trials_nn[nn_cut_indices]\n",
    "nn_near_trials = trials_nn[nn_near_indices]\n",
    "\n",
    "nj_near_labels = np.array(nj_near_labels)\n",
    "nj_cut_trials = trials_nj_compare[nj_cut_indices]\n",
    "nj_near_trials = trials_nj_compare[nj_near_indices]"
   ]
  },
  {
   "cell_type": "markdown",
   "metadata": {},
   "source": [
    "## Cross-section check"
   ]
  },
  {
   "cell_type": "code",
   "execution_count": 38,
   "metadata": {},
   "outputs": [
    {
     "name": "stdout",
     "output_type": "stream",
     "text": [
      "Comparison XS is 4.18227928531e-06\n"
     ]
    }
   ],
   "source": [
    "xs_compare = np.sum(events_nj_compare)/np.sum(trials_nj_compare)\n",
    "print (\"Comparison XS is {}\".format(xs_compare))"
   ]
  },
  {
   "cell_type": "code",
   "execution_count": 39,
   "metadata": {},
   "outputs": [],
   "source": [
    "f = np.sum(events_nj_compare)/np.sum(trials_nj_compare)\n",
    "f_2 = np.sum(events_nj_compare**2)/np.sum(trials_nj_compare)\n",
    "xs_compare_std = np.sqrt((f_2-f**2)/np.sum(trials_nj_compare))"
   ]
  },
  {
   "cell_type": "code",
   "execution_count": 40,
   "metadata": {},
   "outputs": [
    {
     "data": {
      "text/plain": [
       "2.578420081991796e-07"
      ]
     },
     "execution_count": 40,
     "metadata": {},
     "output_type": "execute_result"
    }
   ],
   "source": [
    "xs_compare_std"
   ]
  },
  {
   "cell_type": "code",
   "execution_count": 41,
   "metadata": {},
   "outputs": [
    {
     "name": "stdout",
     "output_type": "stream",
     "text": [
      "NN XS is 4.38744671886e-06\n"
     ]
    }
   ],
   "source": [
    "nn_xs = np.sum(events_nn)/np.sum(trials_nn)\n",
    "print (\"NN XS is {}\".format(nn_xs)) "
   ]
  },
  {
   "cell_type": "code",
   "execution_count": 42,
   "metadata": {},
   "outputs": [],
   "source": [
    "f = np.sum(events_nn)/np.sum(trials_nn)\n",
    "f_2 = np.sum(events_nn**2)/np.sum(trials_nn)\n",
    "nn_xs_std = np.sqrt((f_2-f**2)/np.sum(trials_nn))"
   ]
  },
  {
   "cell_type": "code",
   "execution_count": 43,
   "metadata": {},
   "outputs": [
    {
     "data": {
      "text/plain": [
       "3.442450211446465e-08"
      ]
     },
     "execution_count": 43,
     "metadata": {},
     "output_type": "execute_result"
    }
   ],
   "source": [
    "nn_xs_std"
   ]
  },
  {
   "cell_type": "markdown",
   "metadata": {},
   "source": [
    "## Reweight"
   ]
  },
  {
   "cell_type": "code",
   "execution_count": 210,
   "metadata": {},
   "outputs": [],
   "source": [
    "reweight_props = np.arange(0,1.1,0.1)"
   ]
  },
  {
   "cell_type": "code",
   "execution_count": 211,
   "metadata": {},
   "outputs": [],
   "source": [
    "chosen_max = np.random.randint(0,len(nn_near_labels), int(np.max(reweight_props)*len(nn_near_labels)))"
   ]
  },
  {
   "cell_type": "code",
   "execution_count": 212,
   "metadata": {},
   "outputs": [],
   "source": [
    "nn_near_chosen = nn_near_labels[chosen_max]\n",
    "nn_near_trials_chosen = nn_near_trials[chosen_max]\n",
    "nj_near_chosen = nj_near_labels[chosen_max]\n",
    "nj_near_trials_chosen = nj_near_trials[chosen_max]"
   ]
  },
  {
   "cell_type": "code",
   "execution_count": 213,
   "metadata": {},
   "outputs": [],
   "source": [
    "nn_near_labels_reweights = []\n",
    "nn_near_trials_reweights = []\n",
    "for i in reweight_props:\n",
    "    nn_near_labels_new = deepcopy(nn_near_labels)\n",
    "    nn_near_trials_new = deepcopy(nn_near_trials)\n",
    "    for jdx, j in enumerate(chosen_max[:int(i*len(nn_near_labels_new))]):\n",
    "        nn_near_labels_new[j] = nj_near_chosen[jdx]\n",
    "        nn_near_trials_new[j] = nj_near_trials_chosen[jdx]\n",
    "    nn_near_labels_reweights.append(nn_near_labels_new)\n",
    "    nn_near_trials_reweights.append(nn_near_trials_new)"
   ]
  },
  {
   "cell_type": "code",
   "execution_count": 214,
   "metadata": {},
   "outputs": [
    {
     "name": "stdout",
     "output_type": "stream",
     "text": [
      "New XS is 4.38744671886e-06\n",
      "New XS is 4.44878831702e-06\n",
      "New XS is 4.4746656973e-06\n",
      "New XS is 4.38650149809e-06\n",
      "New XS is 4.28789607277e-06\n",
      "New XS is 4.26469050884e-06\n",
      "New XS is 4.21663731444e-06\n",
      "New XS is 4.20533148365e-06\n",
      "New XS is 4.24557717093e-06\n",
      "New XS is 4.1880074875e-06\n",
      "New XS is 4.16839791599e-06\n"
     ]
    }
   ],
   "source": [
    "nn_xs_reweights = []\n",
    "for i in range(len(nn_near_labels_reweights)):\n",
    "    new_xs = np.sum(np.concatenate((nn_cut_labels, nn_near_labels_reweights[i])))/np.sum(np.concatenate((nn_cut_trials, nn_near_trials_reweights[i])))\n",
    "    nn_xs_reweights.append(new_xs)\n",
    "    print (\"New XS is {}\".format(new_xs))"
   ]
  },
  {
   "cell_type": "markdown",
   "metadata": {},
   "source": [
    "## Plot convergence"
   ]
  },
  {
   "cell_type": "code",
   "execution_count": 216,
   "metadata": {},
   "outputs": [
    {
     "data": {
      "image/png": "[encoded data removed]",
      "text/plain": [
       "<Figure size 432x288 with 1 Axes>"
      ]
     },
     "metadata": {
      "needs_background": "light"
     },
     "output_type": "display_data"
    }
   ],
   "source": [
    "plt.scatter(np.array(reweight_props)*100, nn_xs_reweights/xs_compare, color=\"blue\", s=60)\n",
    "plt.plot(np.array(reweight_props)*100, nn_xs_reweights/xs_compare, color=\"blue\")\n",
    "plt.hlines(1.,-2,102, linestyles='--')\n",
    "plt.fill_between(np.array(reweight_props)*100, 1-xs_compare_std/xs_compare, 1+xs_compare_std/xs_compare, color=\"red\", alpha=0.3)\n",
    "\n",
    "plt.tick_params(axis='x', labelsize=15, direction = 'in', top = True, which='both')\n",
    "plt.tick_params(axis='y', labelsize=15, direction = 'in', right = True, which='both')\n",
    "\n",
    "#plt.ylim((0.998,1.008))\n",
    "plt.xlabel(r'$\\mathcal{R}_{\\mathrm{div}}$ reweighted [\\%]', fontsize=17, labelpad=10)\n",
    "plt.ylabel(r'$\\sigma^{\\mathrm{(RW)}}/\\sigma^{\\mathrm{(NJet)}}$', fontsize=17, labelpad=10)\n",
    "\n",
    "plt.savefig('./paper_plots/6_point/100k_unit_reweighting.pdf', dpi=150, bbox_inches='tight')\n",
    "plt.show()"
   ]
  },
  {
   "cell_type": "code",
   "execution_count": null,
   "metadata": {},
   "outputs": [],
   "source": []
  }
 ],
 "metadata": {
  "kernelspec": {
   "display_name": "n3jet-env-p2",
   "language": "python",
   "name": "n3jet-env-p2"
  },
  "language_info": {
   "codemirror_mode": {
    "name": "ipython",
    "version": 2
   },
   "file_extension": ".py",
   "mimetype": "text/x-python",
   "name": "python",
   "nbconvert_exporter": "python",
   "pygments_lexer": "ipython2",
   "version": "2.7.5"
  }
 },
 "nbformat": 4,
 "nbformat_minor": 4
}
