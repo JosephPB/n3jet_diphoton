{
 "cells": [
  {
   "cell_type": "code",
   "execution_count": 1,
   "id": "indie-funeral",
   "metadata": {},
   "outputs": [
    {
     "name": "stderr",
     "output_type": "stream",
     "text": [
      "\n",
      "Bad key \"legend.title_fontsize\" on line 22 in\n",
      "/mt/home/jbullock/.config/matplotlib/stylelib/notebook.mplstyle.\n",
      "You probably need to get an updated matplotlibrc file from\n",
      "http://github.com/matplotlib/matplotlib/blob/master/matplotlibrc.template\n",
      "or from the matplotlib source distribution\n",
      "Using TensorFlow backend.\n"
     ]
    }
   ],
   "source": [
    "import numpy as np\n",
    "import matplotlib.pyplot as plt\n",
    "from matplotlib.ticker import Locator, MaxNLocator # added \n",
    "from tqdm import tqdm\n",
    "from scipy import stats, interpolate\n",
    "import yaml\n",
    "\n",
    "from n3jet.general import SingleModelRun, FKSModelRun"
   ]
  },
  {
   "cell_type": "markdown",
   "id": "adequate-delhi",
   "metadata": {},
   "source": [
    "## Set up"
   ]
  },
  {
   "cell_type": "code",
   "execution_count": 31,
   "id": "strange-vacation",
   "metadata": {},
   "outputs": [],
   "source": [
    "single_yaml_file = '/mt/home/jbullock/n3jet/n3jet/runs/runs/diphoton/3g2A/RAMBO/parallel_fixed/single_all_legs_all_pairs_new_sherpa_cuts_pdf_njet.yaml'"
   ]
  },
  {
   "cell_type": "code",
   "execution_count": 32,
   "id": "japanese-trunk",
   "metadata": {},
   "outputs": [],
   "source": [
    "fks_yaml_file = '/mt/home/jbullock/n3jet/n3jet/runs/runs/diphoton/3g2A/RAMBO/parallel_fixed/fks_all_legs_all_pairs_new_sherpa_cuts_pdf_njet.yaml'"
   ]
  },
  {
   "cell_type": "code",
   "execution_count": 33,
   "id": "future-estonia",
   "metadata": {},
   "outputs": [],
   "source": [
    "save_dir = 'paper_plots/5_point/error_plots/'"
   ]
  },
  {
   "cell_type": "code",
   "execution_count": 34,
   "id": "soviet-hampton",
   "metadata": {},
   "outputs": [],
   "source": [
    "save_fig = 'unit_error_plot_joint'"
   ]
  },
  {
   "cell_type": "code",
   "execution_count": 35,
   "id": "secondary-capitol",
   "metadata": {},
   "outputs": [],
   "source": [
    "grid_type = 'unit' # vegas or unit\n",
    "legs = 5"
   ]
  },
  {
   "cell_type": "markdown",
   "id": "younger-setup",
   "metadata": {},
   "source": [
    "## Data processing"
   ]
  },
  {
   "cell_type": "markdown",
   "id": "coated-consensus",
   "metadata": {},
   "source": [
    "### Single model"
   ]
  },
  {
   "cell_type": "code",
   "execution_count": 36,
   "id": "dedicated-disney",
   "metadata": {},
   "outputs": [
    {
     "name": "stdout",
     "output_type": "stream",
     "text": [
      "/mt/home/jbullock/n3jet/n3jet/runs/runs/diphoton/3g2A/RAMBO/parallel_fixed/single_all_legs_all_pairs_new_sherpa_cuts_pdf_njet.yaml\n"
     ]
    }
   ],
   "source": [
    "test_single_model = SingleModelRun.from_yaml(single_yaml_file, training=False)"
   ]
  },
  {
   "cell_type": "code",
   "execution_count": 37,
   "id": "welcome-diameter",
   "metadata": {},
   "outputs": [
    {
     "name": "stdout",
     "output_type": "stream",
     "text": [
      "############### Momenta loaded ###############\n",
      "############### NJet loaded ###############\n",
      "Training on 1000000 PS points\n"
     ]
    }
   ],
   "source": [
    "test_single_momenta, test_single_nj = test_single_model.load_data()"
   ]
  },
  {
   "cell_type": "code",
   "execution_count": 38,
   "id": "helpful-headset",
   "metadata": {},
   "outputs": [
    {
     "name": "stderr",
     "output_type": "stream",
     "text": [
      "100%|██████████| 1000000/1000000 [00:38<00:00, 25701.56it/s]\n"
     ]
    }
   ],
   "source": [
    "test_single_momenta, test_single_nj = test_single_model.recut_data(test_single_momenta, test_single_nj)"
   ]
  },
  {
   "cell_type": "code",
   "execution_count": 39,
   "id": "national-colonial",
   "metadata": {},
   "outputs": [],
   "source": [
    "assert len(test_single_momenta) == len(test_single_nj)"
   ]
  },
  {
   "cell_type": "code",
   "execution_count": 40,
   "id": "mathematical-garden",
   "metadata": {},
   "outputs": [],
   "source": [
    "test_points = len(test_single_momenta)"
   ]
  },
  {
   "cell_type": "code",
   "execution_count": 41,
   "id": "third-slope",
   "metadata": {},
   "outputs": [],
   "source": [
    "model_dir_new = test_single_model.model_base_dir + test_single_model.model_dir"
   ]
  },
  {
   "cell_type": "code",
   "execution_count": 42,
   "id": "worldwide-olive",
   "metadata": {},
   "outputs": [
    {
     "name": "stderr",
     "output_type": "stream",
     "text": [
      "100%|██████████| 20/20 [00:00<00:00, 122.35it/s]\n"
     ]
    }
   ],
   "source": [
    "nn_all = []\n",
    "nn_near_all = []\n",
    "for t in tqdm(range(test_single_model.training_reruns)):\n",
    "    nn = np.load(model_dir_new + '_{}/pred_{}.npy'.format(t,test_points), allow_pickle=True)\n",
    "    nn_all.append(nn)\n",
    "\n",
    "nn_std = np.std(nn_all, ddof=1, axis=0)\n",
    "    \n",
    "nn_mean = np.mean(nn_all, axis=0)\n",
    "    \n",
    "assert len(nn_mean) == len(test_single_nj)"
   ]
  },
  {
   "cell_type": "code",
   "execution_count": 43,
   "id": "nasty-placement",
   "metadata": {},
   "outputs": [],
   "source": [
    "total_single_momenta = test_single_momenta\n",
    "total_single_nj = test_single_nj\n",
    "total_single_nn = nn_mean"
   ]
  },
  {
   "cell_type": "markdown",
   "id": "daily-basket",
   "metadata": {},
   "source": [
    "### FKS model"
   ]
  },
  {
   "cell_type": "code",
   "execution_count": 44,
   "id": "loose-spine",
   "metadata": {},
   "outputs": [
    {
     "name": "stdout",
     "output_type": "stream",
     "text": [
      "/mt/home/jbullock/n3jet/n3jet/runs/runs/diphoton/3g2A/RAMBO/parallel_fixed/fks_all_legs_all_pairs_new_sherpa_cuts_pdf_njet.yaml\n"
     ]
    }
   ],
   "source": [
    "test_fks_model = FKSModelRun.from_yaml(fks_yaml_file, training=False)"
   ]
  },
  {
   "cell_type": "code",
   "execution_count": 45,
   "id": "manufactured-canal",
   "metadata": {},
   "outputs": [
    {
     "name": "stdout",
     "output_type": "stream",
     "text": [
      "############### Momenta loaded ###############\n",
      "############### NJet loaded ###############\n",
      "Training on 1000000 PS points\n"
     ]
    }
   ],
   "source": [
    "test_momenta, test_nj = test_fks_model.load_data()"
   ]
  },
  {
   "cell_type": "code",
   "execution_count": 46,
   "id": "electrical-massage",
   "metadata": {},
   "outputs": [
    {
     "name": "stderr",
     "output_type": "stream",
     "text": [
      "100%|██████████| 1000000/1000000 [00:41<00:00, 24375.99it/s]\n",
      "  1%|          | 907/88451 [00:00<00:09, 9069.27it/s]"
     ]
    },
    {
     "name": "stdout",
     "output_type": "stream",
     "text": [
      "Pair 1 of 9\n"
     ]
    },
    {
     "name": "stderr",
     "output_type": "stream",
     "text": [
      "100%|██████████| 88451/88451 [00:06<00:00, 14184.84it/s]\n",
      "  0%|          | 0/88451 [00:00<?, ?it/s]"
     ]
    },
    {
     "name": "stdout",
     "output_type": "stream",
     "text": [
      "Pair 2 of 9\n"
     ]
    },
    {
     "name": "stderr",
     "output_type": "stream",
     "text": [
      "100%|██████████| 88451/88451 [00:05<00:00, 15427.91it/s]\n",
      "  2%|▏         | 2139/88451 [00:00<00:04, 21285.53it/s]"
     ]
    },
    {
     "name": "stdout",
     "output_type": "stream",
     "text": [
      "Pair 3 of 9\n"
     ]
    },
    {
     "name": "stderr",
     "output_type": "stream",
     "text": [
      "100%|██████████| 88451/88451 [00:05<00:00, 14994.79it/s]\n",
      "  2%|▏         | 1339/88451 [00:00<00:06, 13389.06it/s]"
     ]
    },
    {
     "name": "stdout",
     "output_type": "stream",
     "text": [
      "Pair 4 of 9\n"
     ]
    },
    {
     "name": "stderr",
     "output_type": "stream",
     "text": [
      "100%|██████████| 88451/88451 [00:05<00:00, 15339.00it/s]\n",
      "  2%|▏         | 1947/88451 [00:00<00:04, 19467.47it/s]"
     ]
    },
    {
     "name": "stdout",
     "output_type": "stream",
     "text": [
      "Pair 5 of 9\n"
     ]
    },
    {
     "name": "stderr",
     "output_type": "stream",
     "text": [
      "100%|██████████| 88451/88451 [00:05<00:00, 15956.48it/s]\n",
      "  1%|▏         | 1286/88451 [00:00<00:06, 12854.59it/s]"
     ]
    },
    {
     "name": "stdout",
     "output_type": "stream",
     "text": [
      "Pair 6 of 9\n"
     ]
    },
    {
     "name": "stderr",
     "output_type": "stream",
     "text": [
      "100%|██████████| 88451/88451 [00:05<00:00, 16271.14it/s]\n",
      "  2%|▏         | 1790/88451 [00:00<00:04, 17891.74it/s]"
     ]
    },
    {
     "name": "stdout",
     "output_type": "stream",
     "text": [
      "Pair 7 of 9\n"
     ]
    },
    {
     "name": "stderr",
     "output_type": "stream",
     "text": [
      "100%|██████████| 88451/88451 [00:05<00:00, 15291.45it/s]\n",
      "  2%|▏         | 1962/88451 [00:00<00:04, 19617.63it/s]"
     ]
    },
    {
     "name": "stdout",
     "output_type": "stream",
     "text": [
      "Pair 8 of 9\n"
     ]
    },
    {
     "name": "stderr",
     "output_type": "stream",
     "text": [
      "100%|██████████| 88451/88451 [00:05<00:00, 15775.10it/s]\n",
      "  2%|▏         | 1780/88451 [00:00<00:04, 17797.90it/s]"
     ]
    },
    {
     "name": "stdout",
     "output_type": "stream",
     "text": [
      "Pair 9 of 9\n"
     ]
    },
    {
     "name": "stderr",
     "output_type": "stream",
     "text": [
      "100%|██████████| 88451/88451 [00:05<00:00, 15353.64it/s]\n"
     ]
    }
   ],
   "source": [
    "cut_momenta, near_momenta, cut_nj, near_nj, pairs, _, weights = test_fks_model.split_data(\n",
    "    momenta = test_momenta, \n",
    "    nj = test_nj,\n",
    "    return_weights = True\n",
    ")"
   ]
  },
  {
   "cell_type": "code",
   "execution_count": 47,
   "id": "metallic-format",
   "metadata": {},
   "outputs": [],
   "source": [
    "cut_nj = np.array(cut_nj)\n",
    "near_nj = np.array(near_nj)\n",
    "total_nj = np.concatenate((cut_nj, near_nj))\n",
    "total_momenta = np.concatenate((cut_momenta, near_momenta))"
   ]
  },
  {
   "cell_type": "code",
   "execution_count": 48,
   "id": "domestic-bones",
   "metadata": {},
   "outputs": [],
   "source": [
    "assert len(total_nj) == len(test_momenta)\n",
    "assert len(total_momenta) == len(test_momenta)\n",
    "\n",
    "test_points = len(test_momenta)\n",
    "model_dir_new = test_fks_model.model_base_dir + test_fks_model.model_dir"
   ]
  },
  {
   "cell_type": "code",
   "execution_count": 49,
   "id": "strange-jewelry",
   "metadata": {},
   "outputs": [
    {
     "name": "stderr",
     "output_type": "stream",
     "text": [
      "100%|██████████| 20/20 [00:00<00:00, 120.98it/s]\n"
     ]
    }
   ],
   "source": [
    "nn_cut_all = []\n",
    "nn_near_all = []\n",
    "for t in tqdm(range(test_fks_model.training_reruns)):\n",
    "    nn_cut = np.load(model_dir_new + '_{}/pred_cut_{}.npy'.format(t,test_points), allow_pickle=True)\n",
    "    nn_near = np.load(model_dir_new + '_{}/pred_near_{}.npy'.format(t,test_points), allow_pickle=True)\n",
    "    nn_cut_all.append(nn_cut)\n",
    "    nn_near_all.append(nn_near)\n",
    "\n",
    "nn_cut_std = np.std(nn_cut_all, ddof=1, axis=0)\n",
    "nn_near_std = np.std(nn_near_all, ddof=1, axis=0)\n",
    "    \n",
    "nn_cut_mean = np.mean(nn_cut_all, axis=0)\n",
    "nn_near_mean = np.mean(nn_near_all, axis=0)\n",
    "    \n",
    "assert len(nn_cut_mean) == len(cut_nj)\n",
    "assert len(nn_near_mean) == len(near_nj)\n",
    "    \n",
    "total_nn = np.concatenate((nn_cut_mean, nn_near_mean))\n",
    "total_nn_std = np.concatenate((nn_cut_std, nn_near_std))\n",
    "\n",
    "assert len(total_nn) == test_points\n",
    "assert len(total_nn_std) == test_points"
   ]
  },
  {
   "cell_type": "code",
   "execution_count": 50,
   "id": "stuck-wedding",
   "metadata": {},
   "outputs": [],
   "source": [
    "total_fks_momenta = total_momenta\n",
    "total_fks_nj = total_nj\n",
    "total_fks_nn = total_nn"
   ]
  },
  {
   "cell_type": "markdown",
   "id": "hazardous-perspective",
   "metadata": {},
   "source": [
    "## Error plots"
   ]
  },
  {
   "cell_type": "code",
   "execution_count": 51,
   "id": "double-cardiff",
   "metadata": {},
   "outputs": [],
   "source": [
    "Delta = total_single_nn/total_single_nj\n",
    "positive_locs = np.where(Delta >= 0.)\n",
    "Delta = Delta[positive_locs]\n",
    "    \n",
    "log_single_delta = np.log(Delta)\n",
    "\n",
    "Delta = total_fks_nn/total_fks_nj\n",
    "positive_locs = np.where(Delta >= 0.)\n",
    "Delta = Delta[positive_locs]\n",
    "    \n",
    "log_fks_delta = np.log(Delta)"
   ]
  },
  {
   "cell_type": "code",
   "execution_count": 52,
   "id": "another-white",
   "metadata": {},
   "outputs": [
    {
     "data": {
      "image/png": "[encoded data removed]",
      "text/plain": [
       "<Figure size 432x288 with 1 Axes>"
      ]
     },
     "metadata": {
      "needs_background": "light"
     },
     "output_type": "display_data"
    }
   ],
   "source": [
    "plt.rc('text', usetex=True)\n",
    "plt.rc('font', family='serif')\n",
    "\n",
    "plt.hist(log_single_delta, bins=200, color='red', alpha=0.5, label='Single neural\\nnetwork')\n",
    "plt.hist(log_fks_delta, bins=200, color='green', alpha=0.5, label='Neural network\\nensemble')\n",
    "plt.legend(prop={\"size\":15}, frameon = False, loc = 'upper left')\n",
    "plt.xlim((-4,4))\n",
    "\n",
    "plt.tick_params(axis='x', labelsize=15, direction = 'in', top = True)\n",
    "plt.tick_params(axis='y', labelsize=15, direction = 'in', right = True)\n",
    "plt.ticklabel_format(style='sci', axis='y', scilimits=(0,0))\n",
    "\n",
    "plt.ylabel('Frequency', fontsize=17, labelpad=10)\n",
    "plt.xlabel(r'ln($\\Delta$)', fontsize=17, labelpad=10)\n",
    "\n",
    "if grid_type == 'vegas':\n",
    "    annotation_string = \"VEGAS grid \\n\"\n",
    "elif grid_type == 'unit':\n",
    "    annotation_string = \"Unit grid \\n\"\n",
    "if legs == 5:\n",
    "    annotation_string += r\"$gg\\to \\gamma\\gamma g$\"\n",
    "elif legs == 6:\n",
    "    annotation_string += r\"$gg\\to \\gamma\\gamma gg$\"\n",
    "annotation_string += \"\\n\"\n",
    "annotation_string += r\"$\\Delta = \\frac{\\mathrm{NN}}{\\mathrm{NJet}}$\"\n",
    "    \n",
    "plt.text(1.5, 1e5, annotation_string, size=17,\n",
    "         va=\"baseline\", ha=\"left\", multialignment=\"left\", linespacing = 1.6)\n",
    "\n",
    "plt.savefig(save_dir + save_fig + '.png', dpi=150, bbox_inches='tight')\n",
    "plt.show()"
   ]
  }
 ],
 "metadata": {
  "kernelspec": {
   "display_name": "n3jet-env-p2",
   "language": "python",
   "name": "n3jet-env-p2"
  },
  "language_info": {
   "codemirror_mode": {
    "name": "ipython",
    "version": 2
   },
   "file_extension": ".py",
   "mimetype": "text/x-python",
   "name": "python",
   "nbconvert_exporter": "python",
   "pygments_lexer": "ipython2",
   "version": "2.7.5"
  }
 },
 "nbformat": 4,
 "nbformat_minor": 5
}
