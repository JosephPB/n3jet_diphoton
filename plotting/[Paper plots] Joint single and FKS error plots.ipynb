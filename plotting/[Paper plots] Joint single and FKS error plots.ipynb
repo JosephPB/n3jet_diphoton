{
 "cells": [
  {
   "cell_type": "code",
   "execution_count": 1,
   "metadata": {},
   "outputs": [
    {
     "name": "stderr",
     "output_type": "stream",
     "text": [
      "\n",
      "Bad key \"legend.title_fontsize\" on line 22 in\n",
      "/mt/home/jbullock/.config/matplotlib/stylelib/notebook.mplstyle.\n",
      "You probably need to get an updated matplotlibrc file from\n",
      "http://github.com/matplotlib/matplotlib/blob/master/matplotlibrc.template\n",
      "or from the matplotlib source distribution\n",
      "Using TensorFlow backend.\n"
     ]
    }
   ],
   "source": [
    "import numpy as np\n",
    "import matplotlib.pyplot as plt\n",
    "from matplotlib.ticker import Locator, MaxNLocator # added \n",
    "from tqdm import tqdm\n",
    "from scipy import stats, interpolate\n",
    "import yaml\n",
    "\n",
    "from n3jet.general import SingleModelRun, FKSModelRun"
   ]
  },
  {
   "cell_type": "markdown",
   "metadata": {},
   "source": [
    "## Set up"
   ]
  },
  {
   "cell_type": "code",
   "execution_count": 26,
   "metadata": {},
   "outputs": [],
   "source": [
    "single_yaml_file = '/mt/home/jbullock/n3jet/n3jet/runs/runs/diphoton/3g2A/RAMBO/parallel_fixed/single_all_legs_all_pairs_new_sherpa_cuts_pdf.yaml'"
   ]
  },
  {
   "cell_type": "code",
   "execution_count": 27,
   "metadata": {},
   "outputs": [],
   "source": [
    "fks_yaml_file = '/mt/home/jbullock/n3jet/n3jet/runs/runs/diphoton/3g2A/RAMBO/parallel_fixed/fks_all_legs_all_pairs_new_sherpa_cuts_pdf.yaml'"
   ]
  },
  {
   "cell_type": "code",
   "execution_count": 28,
   "metadata": {},
   "outputs": [],
   "source": [
    "save_dir = 'paper_plots/5_point/error_plots/vegas_fks_RAMBO_100k_3M/'"
   ]
  },
  {
   "cell_type": "code",
   "execution_count": 29,
   "metadata": {},
   "outputs": [],
   "source": [
    "save_fig = 'vegas_error_plot_joint'"
   ]
  },
  {
   "cell_type": "code",
   "execution_count": 30,
   "metadata": {},
   "outputs": [],
   "source": [
    "grid_type = 'vegas' # vegas or unit\n",
    "legs = 5"
   ]
  },
  {
   "cell_type": "markdown",
   "metadata": {},
   "source": [
    "## Data processing"
   ]
  },
  {
   "cell_type": "markdown",
   "metadata": {},
   "source": [
    "### Single model"
   ]
  },
  {
   "cell_type": "code",
   "execution_count": 31,
   "metadata": {},
   "outputs": [
    {
     "name": "stdout",
     "output_type": "stream",
     "text": [
      "/mt/home/jbullock/n3jet/n3jet/runs/runs/diphoton/3g2A/RAMBO/parallel_fixed/single_all_legs_all_pairs_new_sherpa_cuts_pdf.yaml\n"
     ]
    }
   ],
   "source": [
    "test_single_model = SingleModelRun.from_yaml(single_yaml_file, training=False)"
   ]
  },
  {
   "cell_type": "code",
   "execution_count": 32,
   "metadata": {},
   "outputs": [
    {
     "name": "stdout",
     "output_type": "stream",
     "text": [
      "############### Momenta loaded ###############\n",
      "############### NJet loaded ###############\n",
      "Training on 1000000 PS points\n"
     ]
    }
   ],
   "source": [
    "test_single_momenta, test_single_nj = test_single_model.load_data()"
   ]
  },
  {
   "cell_type": "code",
   "execution_count": 33,
   "metadata": {},
   "outputs": [
    {
     "name": "stderr",
     "output_type": "stream",
     "text": [
      "100%|██████████| 1000000/1000000 [00:25<00:00, 39318.06it/s]\n"
     ]
    }
   ],
   "source": [
    "test_single_momenta, test_single_nj = test_single_model.recut_data(test_single_momenta, test_single_nj)"
   ]
  },
  {
   "cell_type": "code",
   "execution_count": 34,
   "metadata": {},
   "outputs": [],
   "source": [
    "assert len(test_single_momenta) == len(test_single_nj)"
   ]
  },
  {
   "cell_type": "code",
   "execution_count": 35,
   "metadata": {},
   "outputs": [],
   "source": [
    "test_points = len(test_single_momenta)"
   ]
  },
  {
   "cell_type": "code",
   "execution_count": 36,
   "metadata": {},
   "outputs": [],
   "source": [
    "model_dir_new = test_single_model.model_base_dir + test_single_model.model_dir"
   ]
  },
  {
   "cell_type": "code",
   "execution_count": 37,
   "metadata": {},
   "outputs": [
    {
     "name": "stderr",
     "output_type": "stream",
     "text": [
      "100%|██████████| 20/20 [00:01<00:00, 11.31it/s]\n"
     ]
    }
   ],
   "source": [
    "nn_all = []\n",
    "nn_near_all = []\n",
    "for t in tqdm(range(test_single_model.training_reruns)):\n",
    "    nn = np.load(model_dir_new + '_{}/pred_{}.npy'.format(t,test_points), allow_pickle=True)\n",
    "    nn_all.append(nn)\n",
    "\n",
    "nn_std = np.std(nn_all, ddof=1, axis=0)\n",
    "    \n",
    "nn_mean = np.mean(nn_all, axis=0)\n",
    "    \n",
    "assert len(nn_mean) == len(test_single_nj)"
   ]
  },
  {
   "cell_type": "code",
   "execution_count": 38,
   "metadata": {},
   "outputs": [],
   "source": [
    "total_single_momenta = test_single_momenta\n",
    "total_single_nj = test_single_nj\n",
    "total_single_nn = nn_mean"
   ]
  },
  {
   "cell_type": "markdown",
   "metadata": {},
   "source": [
    "### FKS model"
   ]
  },
  {
   "cell_type": "code",
   "execution_count": 39,
   "metadata": {},
   "outputs": [
    {
     "name": "stdout",
     "output_type": "stream",
     "text": [
      "/mt/home/jbullock/n3jet/n3jet/runs/runs/diphoton/3g2A/RAMBO/parallel_fixed/fks_all_legs_all_pairs_new_sherpa_cuts_pdf.yaml\n"
     ]
    }
   ],
   "source": [
    "test_fks_model = FKSModelRun.from_yaml(fks_yaml_file, training=False)"
   ]
  },
  {
   "cell_type": "code",
   "execution_count": 40,
   "metadata": {},
   "outputs": [
    {
     "name": "stdout",
     "output_type": "stream",
     "text": [
      "############### Momenta loaded ###############\n",
      "############### NJet loaded ###############\n",
      "Training on 1000000 PS points\n"
     ]
    }
   ],
   "source": [
    "test_momenta, test_nj = test_fks_model.load_data()"
   ]
  },
  {
   "cell_type": "code",
   "execution_count": 41,
   "metadata": {},
   "outputs": [
    {
     "name": "stderr",
     "output_type": "stream",
     "text": [
      "100%|██████████| 1000000/1000000 [00:25<00:00, 39790.88it/s]\n",
      "  3%|▎         | 2708/94828 [00:00<00:03, 27076.48it/s]"
     ]
    },
    {
     "name": "stdout",
     "output_type": "stream",
     "text": [
      "Pair 1 of 9\n"
     ]
    },
    {
     "name": "stderr",
     "output_type": "stream",
     "text": [
      "100%|██████████| 94828/94828 [00:03<00:00, 24181.67it/s]\n",
      "  3%|▎         | 2804/94828 [00:00<00:03, 28029.60it/s]"
     ]
    },
    {
     "name": "stdout",
     "output_type": "stream",
     "text": [
      "Pair 2 of 9\n"
     ]
    },
    {
     "name": "stderr",
     "output_type": "stream",
     "text": [
      "100%|██████████| 94828/94828 [00:03<00:00, 28051.02it/s]\n",
      "  3%|▎         | 2684/94828 [00:00<00:03, 26839.96it/s]"
     ]
    },
    {
     "name": "stdout",
     "output_type": "stream",
     "text": [
      "Pair 3 of 9\n"
     ]
    },
    {
     "name": "stderr",
     "output_type": "stream",
     "text": [
      "100%|██████████| 94828/94828 [00:03<00:00, 27157.27it/s]\n",
      "  2%|▏         | 2107/94828 [00:00<00:04, 21062.24it/s]"
     ]
    },
    {
     "name": "stdout",
     "output_type": "stream",
     "text": [
      "Pair 4 of 9\n"
     ]
    },
    {
     "name": "stderr",
     "output_type": "stream",
     "text": [
      "100%|██████████| 94828/94828 [00:04<00:00, 23368.62it/s]\n",
      "  3%|▎         | 2473/94828 [00:00<00:03, 24727.78it/s]"
     ]
    },
    {
     "name": "stdout",
     "output_type": "stream",
     "text": [
      "Pair 5 of 9\n"
     ]
    },
    {
     "name": "stderr",
     "output_type": "stream",
     "text": [
      "100%|██████████| 94828/94828 [00:03<00:00, 27186.87it/s]\n",
      "  3%|▎         | 2933/94828 [00:00<00:03, 29303.06it/s]"
     ]
    },
    {
     "name": "stdout",
     "output_type": "stream",
     "text": [
      "Pair 6 of 9\n"
     ]
    },
    {
     "name": "stderr",
     "output_type": "stream",
     "text": [
      "100%|██████████| 94828/94828 [00:03<00:00, 24245.34it/s]\n",
      "  3%|▎         | 2917/94828 [00:00<00:03, 29156.89it/s]"
     ]
    },
    {
     "name": "stdout",
     "output_type": "stream",
     "text": [
      "Pair 7 of 9\n"
     ]
    },
    {
     "name": "stderr",
     "output_type": "stream",
     "text": [
      "100%|██████████| 94828/94828 [00:03<00:00, 24085.06it/s]\n",
      "  2%|▏         | 2058/94828 [00:00<00:04, 20572.76it/s]"
     ]
    },
    {
     "name": "stdout",
     "output_type": "stream",
     "text": [
      "Pair 8 of 9\n"
     ]
    },
    {
     "name": "stderr",
     "output_type": "stream",
     "text": [
      "100%|██████████| 94828/94828 [00:03<00:00, 24031.48it/s]\n",
      "  2%|▏         | 1584/94828 [00:00<00:05, 15833.18it/s]"
     ]
    },
    {
     "name": "stdout",
     "output_type": "stream",
     "text": [
      "Pair 9 of 9\n"
     ]
    },
    {
     "name": "stderr",
     "output_type": "stream",
     "text": [
      "100%|██████████| 94828/94828 [00:03<00:00, 25095.50it/s]\n"
     ]
    }
   ],
   "source": [
    "cut_momenta, near_momenta, cut_nj, near_nj, pairs, _, weights = test_fks_model.split_data(\n",
    "    momenta = test_momenta, \n",
    "    nj = test_nj,\n",
    "    return_weights = True\n",
    ")"
   ]
  },
  {
   "cell_type": "code",
   "execution_count": 42,
   "metadata": {},
   "outputs": [],
   "source": [
    "cut_nj = np.array(cut_nj)\n",
    "near_nj = np.array(near_nj)\n",
    "total_nj = np.concatenate((cut_nj, near_nj))\n",
    "total_momenta = np.concatenate((cut_momenta, near_momenta))"
   ]
  },
  {
   "cell_type": "code",
   "execution_count": 43,
   "metadata": {},
   "outputs": [],
   "source": [
    "assert len(total_nj) == len(test_momenta)\n",
    "assert len(total_momenta) == len(test_momenta)\n",
    "\n",
    "test_points = len(test_momenta)\n",
    "model_dir_new = test_fks_model.model_base_dir + test_fks_model.model_dir"
   ]
  },
  {
   "cell_type": "code",
   "execution_count": 44,
   "metadata": {},
   "outputs": [
    {
     "name": "stderr",
     "output_type": "stream",
     "text": [
      "100%|██████████| 20/20 [00:00<00:00, 121.05it/s]\n"
     ]
    }
   ],
   "source": [
    "nn_cut_all = []\n",
    "nn_near_all = []\n",
    "for t in tqdm(range(test_fks_model.training_reruns)):\n",
    "    nn_cut = np.load(model_dir_new + '_{}/pred_cut_{}.npy'.format(t,test_points), allow_pickle=True)\n",
    "    nn_near = np.load(model_dir_new + '_{}/pred_near_{}.npy'.format(t,test_points), allow_pickle=True)\n",
    "    nn_cut_all.append(nn_cut)\n",
    "    nn_near_all.append(nn_near)\n",
    "\n",
    "nn_cut_std = np.std(nn_cut_all, ddof=1, axis=0)\n",
    "nn_near_std = np.std(nn_near_all, ddof=1, axis=0)\n",
    "    \n",
    "nn_cut_mean = np.mean(nn_cut_all, axis=0)\n",
    "nn_near_mean = np.mean(nn_near_all, axis=0)\n",
    "    \n",
    "assert len(nn_cut_mean) == len(cut_nj)\n",
    "assert len(nn_near_mean) == len(near_nj)\n",
    "    \n",
    "total_nn = np.concatenate((nn_cut_mean, nn_near_mean))\n",
    "total_nn_std = np.concatenate((nn_cut_std, nn_near_std))\n",
    "\n",
    "assert len(total_nn) == test_points\n",
    "assert len(total_nn_std) == test_points"
   ]
  },
  {
   "cell_type": "code",
   "execution_count": 45,
   "metadata": {},
   "outputs": [],
   "source": [
    "total_fks_momenta = total_momenta\n",
    "total_fks_nj = total_nj\n",
    "total_fks_nn = total_nn"
   ]
  },
  {
   "cell_type": "markdown",
   "metadata": {},
   "source": [
    "## Error plots"
   ]
  },
  {
   "cell_type": "code",
   "execution_count": 46,
   "metadata": {},
   "outputs": [],
   "source": [
    "Delta = total_single_nn/total_single_nj\n",
    "positive_locs = np.where(Delta >= 0.)\n",
    "Delta = Delta[positive_locs]\n",
    "    \n",
    "log_single_delta = np.log(Delta)\n",
    "\n",
    "Delta = total_fks_nn/total_fks_nj\n",
    "positive_locs = np.where(Delta >= 0.)\n",
    "Delta = Delta[positive_locs]\n",
    "    \n",
    "log_fks_delta = np.log(Delta)"
   ]
  },
  {
   "cell_type": "code",
   "execution_count": 47,
   "metadata": {},
   "outputs": [
    {
     "data": {
      "image/png": "[encoded data removed]",
      "text/plain": [
       "<Figure size 432x288 with 1 Axes>"
      ]
     },
     "metadata": {
      "needs_background": "light"
     },
     "output_type": "display_data"
    }
   ],
   "source": [
    "plt.rc('text', usetex=True)\n",
    "plt.rc('font', family='serif')\n",
    "\n",
    "plt.hist(log_single_delta, bins=200, color='red', alpha=0.5, label='Single neural\\nnetwork', density=True)\n",
    "plt.hist(log_fks_delta, bins=200, color='green', alpha=0.5, label='Neural network\\nensemble', density=True)\n",
    "plt.legend(prop={\"size\":15}, frameon = False, loc = 'upper left')\n",
    "plt.xlim((-4,4))\n",
    "\n",
    "plt.tick_params(axis='x', labelsize=15, direction = 'in', top = True)\n",
    "plt.tick_params(axis='y', labelsize=15, direction = 'in', right = True)\n",
    "plt.ticklabel_format(style='sci', axis='y', scilimits=(0,0))\n",
    "\n",
    "plt.ylabel('Frequency [\\%]', fontsize=17, labelpad=10)\n",
    "plt.xlabel(r'ln($\\Delta$)', fontsize=17, labelpad=10)\n",
    "\n",
    "if grid_type == 'vegas':\n",
    "    annotation_string = \"VEGAS grid \\n\"\n",
    "elif grid_type == 'unit':\n",
    "    annotation_string = \"Unit grid \\n\"\n",
    "if legs == 5:\n",
    "    annotation_string += r\"$gg\\to \\gamma\\gamma g$\"\n",
    "elif legs == 6:\n",
    "    annotation_string += r\"$gg\\to \\gamma\\gamma gg$\"\n",
    "annotation_string += \"\\n\"\n",
    "annotation_string += r\"$\\Delta = \\frac{\\mathrm{NN}}{\\mathrm{NJet}}$\"\n",
    "    \n",
    "plt.text(1.5, 1, annotation_string, size=17,\n",
    "         va=\"baseline\", ha=\"left\", multialignment=\"left\", linespacing = 1.6)\n",
    "\n",
    "plt.savefig(save_dir + save_fig + '.png', dpi=150, bbox_inches='tight')\n",
    "plt.show()"
   ]
  },
  {
   "cell_type": "code",
   "execution_count": null,
   "metadata": {},
   "outputs": [],
   "source": []
  }
 ],
 "metadata": {
  "kernelspec": {
   "display_name": "n3jet-env-p2",
   "language": "python",
   "name": "n3jet-env-p2"
  },
  "language_info": {
   "codemirror_mode": {
    "name": "ipython",
    "version": 2
   },
   "file_extension": ".py",
   "mimetype": "text/x-python",
   "name": "python",
   "nbconvert_exporter": "python",
   "pygments_lexer": "ipython2",
   "version": "2.7.5"
  }
 },
 "nbformat": 4,
 "nbformat_minor": 5
}
